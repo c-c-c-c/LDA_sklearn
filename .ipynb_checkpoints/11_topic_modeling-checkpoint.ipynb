{
 "cells": [
  {
   "cell_type": "markdown",
   "metadata": {
    "colab_type": "text",
    "id": "view-in-github"
   },
   "source": [
    "<a href=\"https://colab.research.google.com/github/tomonari-masada/course-nlp2020/blob/master/11_topic_modeling.ipynb\" target=\"_parent\"><img src=\"https://colab.research.google.com/assets/colab-badge.svg\" alt=\"Open In Colab\"/></a>"
   ]
  },
  {
   "cell_type": "markdown",
   "metadata": {
    "id": "mPj0E52Uf-se"
   },
   "source": [
    "# トピックモデリングの実践\n",
    "\n",
    "* トピックモデリングを、NMF(nonnegative matrix factorization)とLDA(latent Dirichlet allocation)とで実践してみる。\n",
    " * LDAの理屈については「統計モデリング２」で。\n",
    "* いずれもsklearnの実装を使う。\n",
    "* 各トピックの上位単語はワードクラウドで可視化する。\n",
    "\n",
    "* 参考資料\n",
    " * https://scikit-learn.org/stable/auto_examples/applications/plot_topics_extraction_with_nmf_lda.html"
   ]
  },
  {
   "cell_type": "markdown",
   "metadata": {
    "id": "ISGYHQvxffZW"
   },
   "source": [
    "## 11-01 データセットの準備\n",
    "* NeurIPSで発表された1,740本の論文の本文を使う。"
   ]
  },
  {
   "cell_type": "markdown",
   "metadata": {
    "id": "96F3VXGWfypB"
   },
   "source": [
    "### データをダウンロードしリスト化する関数を定義"
   ]
  },
  {
   "cell_type": "code",
   "execution_count": 5,
   "metadata": {
    "id": "fVxhV6BRfalH"
   },
   "outputs": [],
   "source": [
    "import io\n",
    "import os.path\n",
    "import re\n",
    "import tarfile\n",
    "import smart_open\n",
    "\n",
    "\n",
    "PATH = './data'\n",
    "\n",
    "\n",
    "def extract_documents(url='https://cs.nyu.edu/~roweis/data/nips12raw_str602.tgz'):\n",
    "\n",
    "  fname = os.path.join(PATH, url.split('/')[-1])\n",
    "\n",
    "  if not os.path.isfile(fname):\n",
    "    with smart_open.open(url, \"rb\") as fin:\n",
    "      with smart_open.open(fname, 'wb') as fout:\n",
    "        while True:\n",
    "          buf = fin.read(io.DEFAULT_BUFFER_SIZE)\n",
    "          if not buf:\n",
    "            break\n",
    "          fout.write(buf)\n",
    "\n",
    "  with tarfile.open(fname, mode='r:gz') as tar:\n",
    "  # Ignore directory entries, as well as files like README, etc.\n",
    "    files = [\n",
    "             m for m in tar.getmembers()\n",
    "             if m.isfile() and re.search(r'nipstxt/nips\\d+/\\d+\\.txt', m.name)\n",
    "             ]\n",
    "    for member in sorted(files, key=lambda x: x.name):\n",
    "      member_bytes = tar.extractfile(member).read()\n",
    "      yield member_bytes.decode('utf-8', errors='replace')"
   ]
  },
  {
   "cell_type": "markdown",
   "metadata": {
    "id": "fkurnJBsf7RX"
   },
   "source": [
    "* 実際にデータを取得しリスト化する"
   ]
  },
  {
   "cell_type": "code",
   "execution_count": 6,
   "metadata": {
    "id": "taMYgFMor-j_"
   },
   "outputs": [],
   "source": [
    "docs = list(extract_documents())"
   ]
  },
  {
   "cell_type": "markdown",
   "metadata": {
    "id": "EPSjQ6PNgBK1"
   },
   "source": [
    "* 文書数、具体的な文書の内容などを確認"
   ]
  },
  {
   "cell_type": "code",
   "execution_count": 7,
   "metadata": {
    "id": "RhY0Iq0ycIv4"
   },
   "outputs": [
    {
     "name": "stdout",
     "output_type": "stream",
     "text": [
      "1740\n"
     ]
    }
   ],
   "source": [
    "print(len(docs))"
   ]
  },
  {
   "cell_type": "code",
   "execution_count": 8,
   "metadata": {
    "id": "NSTVJr5jgC5d"
   },
   "outputs": [
    {
     "name": "stdout",
     "output_type": "stream",
     "text": [
      "1 \n",
      "CONNECTIVITY VERSUS ENTROPY \n",
      "Yaser S. Abu-Mostafa \n",
      "California Institute of Technology \n",
      "Pasadena, CA 91125 \n",
      "ABSTRACT \n",
      "How does the connectivity of a neural network (number of synapses per \n",
      "neuron) relate to the complexity of the problems it can handle (measured by \n",
      "the entropy)? Switching theory would suggest no relation at all, since all Boolean \n",
      "functions can be implemented using a circuit with very low connectivity (e.g., \n",
      "using two-input NAND gates). However, for a network that learns a problem \n",
      "from examples using a local learning rule, we prove that the entropy of the \n",
      "problem becomes a lower bound for the connectivity of the network. \n",
      "INTRODUCTION \n",
      "The most distinguishing feature of neural networks is their ability to spon- \n",
      "taneously learn the desired function from 'training' samples, i.e., their ability \n",
      "to program themselves. Clearly, a given neural network cannot just learn any \n",
      "function, there must be some restrictions on which networks can learn which \n",
      "functions. One obv\n"
     ]
    }
   ],
   "source": [
    "print(docs[0][:1000])"
   ]
  },
  {
   "cell_type": "markdown",
   "metadata": {
    "id": "UM4WRXtQgL9G"
   },
   "source": [
    "### spaCyを使ってtokenizeする"
   ]
  },
  {
   "cell_type": "markdown",
   "metadata": {
    "id": "qZZGGkqEgQ94"
   },
   "source": [
    "* 前処理の高速化のためtaggerなどは無効にしておく"
   ]
  },
  {
   "cell_type": "code",
   "execution_count": 9,
   "metadata": {
    "id": "xi6mRRyjgJq_"
   },
   "outputs": [],
   "source": [
    "import spacy\n",
    "\n",
    "nlp = spacy.load('en', disable=[\"tagger\", \"parser\", \"ner\"])"
   ]
  },
  {
   "cell_type": "markdown",
   "metadata": {
    "id": "aFKq6fvQhNTg"
   },
   "source": [
    "* 小文字にしてからtokenizeする関数の定義"
   ]
  },
  {
   "cell_type": "code",
   "execution_count": 10,
   "metadata": {
    "id": "1LVnUt6FgYbW"
   },
   "outputs": [],
   "source": [
    "def spacy_lemmatize_text(nlp, text):\n",
    "  text = nlp(text.lower())\n",
    "  doc = [word.lemma_ if word.lemma_ != '-PRON-' else word.text for word in text]\n",
    "  return [word for word in doc if len(word) > 1] # 長さ1の単語は削除"
   ]
  },
  {
   "cell_type": "markdown",
   "metadata": {
    "id": "kPvZBojxgYcW"
   },
   "source": [
    "* tokenizationの実行"
   ]
  },
  {
   "cell_type": "code",
   "execution_count": 11,
   "metadata": {
    "id": "1iICBt6EgqC-"
   },
   "outputs": [
    {
     "name": "stderr",
     "output_type": "stream",
     "text": [
      "100%|██████████| 1740/1740 [01:03<00:00, 27.53it/s]\n"
     ]
    }
   ],
   "source": [
    "from tqdm import tqdm\n",
    "\n",
    "new_docs = list()\n",
    "for doc in tqdm(docs):\n",
    "  new_docs.append(spacy_lemmatize_text(nlp, doc))"
   ]
  },
  {
   "cell_type": "markdown",
   "metadata": {
    "id": "LBDnVSoZgaMJ"
   },
   "source": [
    "* tokenizationの結果を確認"
   ]
  },
  {
   "cell_type": "code",
   "execution_count": 12,
   "metadata": {
    "id": "p6MVn-YGhBst"
   },
   "outputs": [
    {
     "name": "stdout",
     "output_type": "stream",
     "text": [
      "['connectivity', 'versus', 'entropy', 'yaser', 's.', 'abu', 'mostafa', 'california', 'institute', 'of', 'technology', 'pasadena', 'ca', '91125', 'abstract', 'how', 'doe', 'the', 'connectivity', 'of', 'neural', 'network', 'numb', 'of', 'synapsis', 'per', 'neuron', 'relate', 'to', 'the', 'complexity', 'of', 'the', 'problem', 'it', 'can', 'handle', 'measure', 'by', 'the', 'entropy', 'switch', 'theory', 'would', 'suggest', 'no', 'relation', 'at', 'all', 'since', 'all', 'boolean', 'function', 'can', 'be', 'implement', 'use', 'circuit', 'with', 'very', 'low', 'connectivity', 'e.g.', 'use', 'two', 'input', 'nand', 'gate', 'however', 'for', 'network', 'that', 'learn', 'problem', 'from', 'example', 'use', 'local', 'learn', 'rule', 'we', 'prove', 'that', 'the', 'entropy', 'of', 'the', 'problem', 'become', 'low', 'bind', 'for', 'the', 'connectivity', 'of', 'the', 'network', 'introduction', 'the', 'much', 'distinguish', 'feature', 'of', 'neural', 'network', 'be', 'their', 'ability', 'to', 'spon-', 'taneously', 'learn', 'the', 'desire', 'function', 'from', 'train', 'sample', 'i.e.', 'their', 'ability', 'to', 'program', 'themselves', 'clearly', 'give', 'neural', 'network', 'can', 'not', 'just', 'learn', 'any', 'function', 'there', 'must', 'be', 'some', 'restriction', 'on', 'which', 'network', 'can', 'learn', 'which', 'function', 'one', 'obvious', 'restriction', 'which', 'be', 'independent', 'of', 'the', 'learn', 'aspect', 'be', 'that', 'the', 'network', 'must', 'be', 'big', 'enough', 'to', 'accommodate', 'the', 'circuit', 'complex-', 'ity', 'of', 'the', 'function', 'it', 'will', 'eventually', 'simulate', 'be', 'there', 'restriction', 'that', 'arise', 'merely', 'from', 'the', 'fact', 'that', 'the', 'network', 'be', 'expect', 'to', 'learn', 'the', 'function', 'rather', 'than', 'be', 'purposely', 'design', 'for', 'the', 'function', 'this', 'paper', 'report', 'restriction', 'of', 'this', 'kind', 'the', 'result', 'impose', 'low', 'bind', 'on', 'the', 'connectivity', 'of', 'the', 'network', 'num-', 'ber', 'of', 'synapsis', 'per', 'neuron', 'this', 'low', 'bind', 'can', 'only', 'be', 'consequence', 'of', 'the', 'learn', 'aspect', 'since', 'switch', 'theory', 'provide', 'purposely', 'design', 'circuit', 'of', 'low', 'connectivity', 'e.g.', 'use', 'only', 'two', 'input', 'nand', 'gate', 'capable', 'of', 'imple-', 'menting', 'any', 'boolean', 'function', '1,2', 'it', 'also', 'follow', 'that', 'the', 'learn', 'mechanism', 'must', 'be', 'restrict', 'for', 'this', 'low', 'bind', 'to', 'hold', 'powerful', 'mechanism', 'can', 'be', 'american', 'institute', 'of', 'physic', '1988', 'design', 'that', 'will', 'find', 'one', 'of', 'the', 'low', 'connectivity', 'circuit', 'perhaps', 'by', 'exhaus-', 'tive', 'search', 'and', 'hence', 'the', 'low', 'bind', 'on', 'connectivity', 'can', 'not', 'hold', 'in', 'general', 'indeed', 'we', 'restrict', 'the', 'learn', 'mechanism', 'to', 'be', 'local', 'when', 'train', 'sample', 'be', 'load', 'into', 'the', 'network', 'each', 'neuron', 'have', 'access', 'only', 'to', 'that', 'bit', 'carry', 'by', 'itself', 'and', 'the', 'neuron', 'it', 'be', 'directly', 'connect', 'to', 'this', 'be', 'strong', 'assumption', 'that', 'exclude', 'sophisticate', 'learn', 'mechanism', 'use', 'in', 'neural', 'network', 'model', 'but', 'may', 'be', 'much', 'plausible', 'from', 'biological', 'point', 'of', 'view', 'the', 'low', 'bind', 'on', 'the', 'connectivity', 'of', 'the', 'network', 'be', 'give', 'in', 'term', 'of', 'the', 'entropy', 'of', 'the', 'environment', 'that', 'provide', 'the', 'train', 'sample', 'entropy', 'be', 'quantitative', 'measure', 'of', 'the', 'disorder', 'or', 'randomness', 'in', 'environment', 'or', 'equiv-', 'alently', 'the', 'amount', 'of', 'information', 'need', 'to', 'specify', 'the', 'environment', 'there', 'be', 'many', 'different', 'way', 'to', 'define', 'entropy', 'and', 'many', 'technical', 'variation', 'of', 'this', 'concept', 'in', 'the', 'next', 'section', 'we', 'shall', 'introduce', 'the', 'formal', 'definition', 'and', 'result', 'but', 'we', 'start', 'here', 'with', 'informal', 'exposition', 'of', 'the', 'idea', 'involve', 'the', 'environment', 'in', 'our', 'model', 'produce', 'pattern', 'represent', 'by', 'bit', 'x\\x7f', '...', 'xn', 'pixel', 'in', 'the', 'picture', 'of', 'visual', 'scene', 'if', 'you', 'will', 'only', 'different', 'pattern', 'can', 'be', 'generate', 'by', 'give', 'environment', 'where', '\\x7fv', 'the', 'entropy', 'be', 'essentially', 'log', 'no', 'knowledge', 'be', 'assume', 'about', 'which', 'pattern', 'the', 'en-', 'vironment', 'be', 'likely', 'to', 'generate', 'only', 'that', 'there', 'be', 'of', 'them', 'in', 'the', 'learn', 'process', 'huge', 'numb', 'of', 'sample', 'pattern', 'be', 'generate', 'at', 'random', 'from', 'the', 'environment', 'and', 'input', 'to', 'the', 'network', 'one', 'bite', 'per', 'neuron', 'the', 'network', 'use', 'this', 'information', 'to', 'set', 'its', 'internal', 'parameter', 'and', 'gradually', 'tune', 'itself', 'to', 'this', 'particular', 'environment', 'because', 'of', 'the', 'network', 'architecture', 'each', 'neuron', 'know', 'only', 'its', 'own', 'bite', 'and', 'at', 'well', 'the', 'bit', 'of', 'the', 'neuron', 'it', 'be', 'directly', 'connect', 'to', 'by', 'synapse', 'hence', 'the', 'learn', 'rule', 'be', 'local', 'neuron', 'doe', 'not', 'have', 'the', 'benefit', 'of', 'the', 'entire', 'global', 'pattern', 'that', 'be', 'be', 'learn', 'after', 'the', 'learn', 'process', 'have', 'take', 'place', 'each', 'neuron', 'be', 'ready', 'to', 'perform', 'function', 'derned', 'by', '\\x7fvhat', 'it', 'have', 'l\\x7farned', 'the', 'collective', 'interaction', 'of', 'the', 'function', 'of', 'the', 'neuron', 'be', 'what', 'define', 'the', 'overall', 'function', 'of', 'the', 'network', 'the', 'main', 'result', 'of', 'this', 'paper', 'be', 'that', 'roughly', 'speak', 'if', 'the', 'connectivity', 'of', 'the', 'network', 'be', 'little', 'than', 'the', 'entropy', 'of', 'the', 'environment', 'the', 'network', 'can', 'not', 'learn', 'about', 'the', 'environment', 'the', 'idea', 'of', 'the', 'proof', 'be', 'to', 'show', 'that', 'if', 'the', 'connectivity', 'be', 'small', 'the', 'final', 'function', 'of', 'each', 'neuron', 'be', 'independent', 'of', 'the', 'environment', 'and', 'hence', 'to', 'conclude', 'that', 'the', 'overall', 'network', 'have', 'accumulate', 'no', 'information', 'about', 'the', 'environment', 'it', 'be', 'suppose', 'to', 'learn', 'about', 'formal', 'result', 'neural', 'network', 'be', 'undirected', 'graph', 'the', 'vertex', 'be', 'the', 'neuron', 'and', 'the', 'edge', 'be', 'the', 'synapsis', 'label', 'the', 'neuron', '1,-.-', 'and', 'define', '\\x7f1', '..', 'n\\x7f', 'to', 'be', 'the', 'set', 'of', 'neuron', 'connect', 'by', 'synapse', 'to', 'neuron', 'together', 'with', 'neuron', 'itself', 'environment', 'be', 'subset', 'c0', '1\\x7f', '\\x7fv', 'each', 'be', 'sample', 'from', 'the', 'environment', 'during', 'learn', 'zl,-', 'z\\x7fv', 'the', 'bit', 'of', 'be', 'load', 'into', 'the', 'neuron', '1,', '...', ',n', 'respectively', 'consider', 'arbitrary', 'neuron', 'and', 'telabel', 'everything', 'to', 'make', 'k\\x7f', 'become', '1,', '...', ',k', 'thus', 'the', 'neuron', 'see', 'the', '\\ufeff1', 'coordinate', 'of', 'each', 'x.', 'since', 'our', 'result', 'be', 'asymptotic', 'in', 'we', 'will', 'specify', 'function', 'of', 'where', 'a(n', 'satifies', 'limn-.,o', 'a(n', 'ao', 'ao', 'since', 'the', 'result', 'be', 'also', 'statistical', 'we', 'will', 'consider', 'the', 'ensemble', 'of', 'environment', 'where', 'on', 'and/\\x7f', '/\\x7f(n', 'satifies', 'limn_.oo/\\x7f(n', '/\\x7fo', '/\\x7fo', 'the', 'probability', 'distribution', 'on', 'be', 'uniform', 'any', 'environmen\\x7f', 'likely', 'occur', 'any', 'o\\x7fher', 'the', 'neuron', 'see', 'only', '\\x7fhe', 'firs\\x7f', 'coordinate', 'of', 'each', 'generate', 'by', '\\x7fhe', 'environment', 'e.', 'for', 'each', 'we', 'define', 'the', 'function', '0,1', '0,1,2,--', 'where', 'n(a\\x7f', '...', 'a\\x7f', 'l{x6e', 'z,=a', 'fork', 'l,--.,k}l', 'and', 'the', 'normalize', 'version', 'the', 'function', 'describe', 'the', 'relative', 'frequency', 'of', 'occurrence', 'for', 'each', 'of', 'the', '\\x7fr', 'binary', 'vector', 'z\\x7fr', 'zl', 'jr', 'run', 'through', 'all', 'vector', 'in', 'e.', 'in', 'other', 'word', '\\x7f/specifies', 'the', 'projection', 'of', 'see', 'by', 'the', 'neuron', 'clearly', 'v(a', 'for', 'all', '\\x7fr', 'and', 'z&e{o,1}k', 'v(a', 'correspond', 'to', 'two', 'environment', 'el', 'and', 'es', 'we', 'will', 'have', 'two', 'function', 'vl', 'and', 'bt', 'if//1', 'be', 'not', 'distinguishable', 'from', 'the', 'neuron', 'can', 'not', 'tell', 'the', 'difference', 'between', 'ea', 'and', 'es', 'the', 'distinguishability', 'between', 'btl', 'and', 't/', 'can', 'be', 'measure', 'by', 'd(l', \"l'l/2\", '--', 'the', 'range', 'of', 'd(t/1,\\x7f', 'be', 'd(t/1,\\x7f', 'where', 'correspond', 'to', 'complete', 'indistinguishability', 'while', 'correspond', 'to', 'maximum', 'distinguishability', 'we', 'axe', 'now', 'in', 'position', 'to', 'state', 'the', 'main', 'result', 'let', 'e\\x7f', 'and', 'es', 'be', 'independently', 'select', 'environment', 'from', 'accord', 'to', 'the', 'uniform', 'probability', 'distribution', 'd(vl', 'v\\x7f', 'be', 'now', 'random', 'variable', 'and', 'we', 'be', 'interest', 'in', 'the', 'expect', 'value', 'e(d(vl', 'v2', 'the', 'case', 'where', 'e(d(vl', 'v2', '--', 'correspond', 'to', 'the', 'neuron', 'get', 'no', 'information', 'about', 'the', 'environment', 'while', 'the', 'case', 'where', 'e(d(vl', 'v2', 'correspond', 'to', 'the', 'neuron', 'get', 'maximum', 'information', 'the', 'theorem', 'predict', 'in', 'the', 'limit', 'one', 'of', 'this', 'extreme', 'depend', 'on', 'how', 'the', 'connectivity', 'ao', 'compare', 'to', 'the', 'entropy', '/\\x7fo', 'theorem', 'if', 'ao', 'then', 'lim\\x7fv-.\\x7fo', 'd(vl', 'v2', 'if', 'c\\x7fo', '\\x7fo', 'then', 'limn._.oos(d(\\x7f,,,v2', 'the', 'proof', 'be', 'give', 'in', 'the', 'appendix', 'but', 'the', 'idea', 'be', 'easy', 'to', 'illustrate', 'infor-', 'mally', 'suppose', 'k+\\x7f', 'correspond', 'to', 'part', 'of', 'the', 'theorem', 'for', 'much', 'environment', 'the', '\\ufeff1', 'bit', 'of', 'go', 'through', 'all', 'possible', 'val-', 'ues', 'approximately', 'time', 'each', 'go', 'through', 'all', 'possible', 'value', 'once', 'therefore', 'the', 'pattern', 'see', 'by', 'the', 'neuron', 'be', 'draw', 'from', 'the', 'fix', 'ensemble', 'of', 'all', 'binary', 'vector', 'of', 'length', 'with', 'essentially', 'uniform', 'probability', 'distribution', 'i.e.', 'be', 'the', 'same', 'for', 'much', 'environment', 'this', 'mean', 'that', 'statistically', 'the', 'neuron', 'will', 'end', 'up', 'do', 'the', 'same', 'function', 'regardless', 'of', 'the', 'environment', 'at', 'hand', 'what', 'about', 'the', 'opposite', 'case', 'where', 'k-\\x7f', 'correspond', 'to', 'part', 'of', 'the', 'theorem', 'now', 'with', 'only', '\\x7f-\\x7f', 'pattern', 'available', 'from', 'the', 'environment', 'the', '\\ufeff1', 'bit', 'of', 'can', 'assume', 'at', 'much', 'k-\\x7f', 'value', 'out', 'of', 'the', 'possible', 'value', 'binary', 'vector', 'of', 'length', 'can', 'assume', 'in', 'principle', 'furthermore', 'which', 'value', 'can', 'be', 'assume', 'depend', 'on', 'the', 'particular', 'environment', 'at', 'hand', 'i.e.', 'doe', 'depend', 'on', 'the', 'environment', 'therefore', 'although', 'the', 'neuron', 'still', 'doe', 'not', 'have', 'the', 'global', 'picture', 'the', 'information', 'it', 'have', 'say', 'something', 'about', 'the', 'environment', 'acknowledgement', 'this', 'work', 'be', 'support', 'by', 'the', 'air', 'force', 'office', 'of', 'scientific', 'research', 'under', 'grant', 'afosr-86', '0296', 'appendix', 'in', 'this', 'appendix', 'we', 'prove', 'the', 'main', 'theorem', 'we', 'start', 'by', 'discuss', 'some', 'basic', 'property', 'about', 'the', 'ensemble', 'of', 'environment', 'since', 'the', 'probability', 'distribution', 'on', 'be', 'uniform', 'and', 'since', '2h\\x7f', 'we', 'have', 'which', 'be', 'equivalent', 'to', 'generate', 'by', 'choose', 'element', '\\x7fv', 'with', 'uniform', 'probability', 'without', 'replacement', 'it', 'follow', 'that', 'pr(x6e)=', '2\\x7f', 'while', 'for', 'x2', 'h-1', 'pr(xl\\x7fe', 'xi\\x7fe', '2\\x7f', '2\\x7f', 'v_l', 'and', 'so', 'on', 'the', 'function', 'and', 'be', 'define', 'on', 'bite', 'vector', 'random', 'variable', 'for', 'fix', 'be', 'independent', 'of', 'the', 'statistic', 'of', 'r\\x7f(a', 'pr(r\\x7f(sx', 'be', 'pr(r\\x7f(s\\x7f', 'be', 'which', 'follow', 'from', 'the', 'symmetry', 'with', 'respect', 'to', 'each', 'bite', 'of', 'a.', 'the', 'same', 'hold', 'for', 'the', 'statistic', 'of', '\\x7f(a', 'the', 'expect', 'value', 'e(r\\x7f(a', 'h2', '-k', 'object', 'go', 'into', 'cell', 'hence', 'e(\\x7f(a', '-\\x7f.', 'we', 'now', 'restate', 'and', 'prove', 'the', 'theorem', 'theorem', 'if', 'c\\x7fo', '\\x7fo', 'then', 'lim\\x7fr-.\\x7fo', 'd(\\x7fl', '\\x7f2', 'if', 'ao', '\\x7fo', 'then', 'limn-\\x7fo', 'd(\\x7fl', '\\x7f2', 'proof', 'we', 'expand', 'd(\\x7fl', '\\x7f2', 'follow', 'where', 'n\\x7f', 'and', 'n2', 'denote', 'nl(0.--0', 'and', 'n2(0', '..', '-0', 'respectively', 'and', 'the', 'last', 'step', 'follow', 'from', 'the', 'fact', 'that', 'the', 'statistic', 'of', 'nl(a', 'and', 'n2(a', 'be', 'independent', 'of', 'a.', 'therefore', 'to', 'prove', 'the', 'theorem', 'we', 'evaluate', 'e(irh-', 'r\\x7f21', 'for', 'large', 'n.', 'assume', 'ao', 'f\\x7fo', 'let', 'denote', 'n(0', '...', 'and', 'consider', 'pr(n', 'for', 'r\\x7f', 'to', 'be', 'zero', 'all', 'string', 'of', 'bit', 'start', 'with', 'have', 'must', 'not', 'be', 'in', 'the', 'environment', 'e.', 'hence', 'pr(r\\x7f', '1-', '--', '2)(1', '\\x7fr', '2\\x7f', '2\\x7fr_\\x7f', 'where', 'the', '\\ufeff1', 'term', 'be', 'the', 'probability', 'that', '...', '00', 'the', 'term', 'be', 'the', 'probability', 'that', '0.--o1', 'give', 'that', '0-', '..', 'o0', 'and', 'so', 'on', \"h2-m'(1\", '--', '2-x', '2h2-\\x7fr2', '\\x7fv', '2h2', '-k', '2n', '--', 'hence', 'pr(n', 'pr(n2', 'pr(n', '2h2', '-k', 'however', 'e(n', 'e(n2', 'h2', '-\\x7f.', 'therefore', 'pr(rtl', 'rt2', '--', 'j)li', '--', 'jl', 'i=0', 'pr(nl', 'i)pr(n2', 'j)l', 'jl', 'i=0', 'j=0', 'pt(hi', '0)pr(n2', 'j)j', 'pt(hi', '/)pr(n2', '0)i', 'i=0', 'which', 'follow', 'by', 'throw', 'away', 'all', 'the', 'term', 'where', 'neither', 'nor', 'be', 'zero', 'the', 'term', 'where', 'both', 'be', 'zero', 'appear', 'twice', 'for', 'convenience', 'but', 'this', 'term', 'be', 'zero', 'anyway', 'pr(nl', '0)e(n2', 'pr(n2', '0)e(rh', '2(1-', '2h2-\\x7f)h2', '-\\x7f', 'substitute', 'this', 'estimate', 'in', 'the', 'expression', 'for', 'e(d(t\\x7fl', 't\\x7f2', 'we', 'get', 'e(d(//1,//2', '2he(lnl', '--', '\\x7f-\\x7f', '2(1-', '2h2-k)h2', '-\\x7ft', '2h2', '-k', 'f\\x7f-\")\\x7fv', 'since', 'ao', '/\\x7fo', 'by', 'assumption', 'this', 'low', 'bind', 'go', 'to', 'go', 'to', 'infinity', 'since', 'be', 'also', 'upper', 'bind', 'for', 'd(\\x7fl', '\\x7f2', 'and', 'hence', 'upper', 'bind', 'for', 'the', 'expect', 'value', 'e(d(/', 'l,/', 'lim\\x7fv-.oo', 'e(d(/', '\\x7f,/\\x7f2', 'must', 'be', 'assume', 'ao', '\\x7fo', 'consider', 'to', 'evaluate', 'e([n', 'h2-k', 'we', 'estimate', 'the', 'variance', 'of', 'and', 'use', 'the', 'fact', 'that', 'e([n-', 'h2-ki', 'va,\\x7f\\x7f', 'recall', 'that', 'h2', '-\\x7f', 'e(n', 'since', 'vat(n', 'e(n', 'e(n', 'we', 'need', 'estimate', 'for', 'e(n2', 'we', 'write', 'eaei0.1)n-\\x7f', '\\x7fa', 'where', 'if', '0.-.0a', '5\\x7f', 'otherwise', 'in', 'this', 'notation', 'e(n', 'can', 'be', 'write', '0,1', 'be{0,1', 'for', 'the', 'diagonal', 'term', 'h2', '-/v', 'there', 'be', 'such', 'diagonal', 'term', 'hence', 'total', 'contribution', 'of', 'h2', '-\\x7fr', 'h2', '-k', 'to', 'the', 'sum', 'for', 'the', 'off', 'diagonal', 'term', 'e(5', 'sb', 'pr(5', 'sb', 'pr(5', '1)pr(sb', 'l[\\x7fa', 'h-1', '--', '--', 'r\\x7f', '\\x7fr', 'there', 'be', '2\\x7fr-\\x7f(2', '\\x7fv', 'such', 'off', 'diagonal', 'term', 'hence', 'total', 'contribution', 'of', '2\\x7fv-\\x7f(2n', 'h(h', 'h,\\x7f_k\\x7f2', '\\x7fv', \"--'\\x7f1\", '2n(2n--1', '--', '\\x7f--i', 'to', 'the', 'sum', 'putt', 'the', 'contribution', 'from', 'the', 'diagonal', 'and', 'off', 'diagonal', 'term', 'together', 'we', 'get', 'wr(n', 'e(n', 'e(n', 'h2-k', 'h2-k)a2\\x7fv', 'h2-k', 'h2-\\x7f)a', 'h2_\\x7f', 'h2', '-k', '2h2', '-\\x7f', 'the', 'last', 'step', 'follow', 'since', 'h2', '-k', 'be', 'much', 'small', 'than', '\\x7fr', 'therefore', 'e(in', 'h2-\\x7f', 'v\\x7f', '2h2-\\x7f', 'substitute', 'this', 'estimate', 'in', 'the', 'expression', 'for', 'we', 'get', 'since', 'cto', 'by', 'assumption', 'this', 'upper', 'bind', 'go', 'to', 'go', 'to', 'infinity', 'since', 'be', 'also', 'low', 'bind', 'for', 'd(yx', 'you', 'and', 'hence', 'low', 'bind', 'for', 'the', 'expect', 'value', 'e(d(\\x7f,x,\\x7f,a', 'lim\\x7fo', 'e(d(\\x7f,\\x7f,\\x7f,a', 'must', 'be', 'reference', 'y.', 'abu', 'mostafa', 'neural', 'network', 'for', 'computing?,\"aip', 'conference', 'pro-', 'ceedings', '151', 'neural', 'network', 'for', 'compute', 'j.', 'denker', 'ed', 'pp', '1986', 'z.', 'kohavi', 'switch', 'and', 'finite', 'automaton', 'theory', 'mcgraw', 'hill', '1978', 'y.', 'abu', 'mostafa', 'the', 'complexity', 'of', 'information', 'extraction,\"ieee', 'trans', 'on', 'information', 'theory', 'vol', 'it-32', 'pp', '513', '525', 'july', '1986', 'y.', 'abu', 'mostafa', 'complexity', 'in', 'neural', 'systems,\"in', 'analog', 'vlsiand', 'neural', 'system', 'by', 'c.', 'mead', 'addison', 'wesley', '1988']\n"
     ]
    }
   ],
   "source": [
    "print(new_docs[0])"
   ]
  },
  {
   "cell_type": "markdown",
   "metadata": {
    "id": "A7lABQFJgdBj"
   },
   "source": [
    "* 各文書を長い文字列で表しなおす（CountVectorizerを後で使うため）"
   ]
  },
  {
   "cell_type": "code",
   "execution_count": 13,
   "metadata": {
    "id": "mnNRbzLzi6vh"
   },
   "outputs": [],
   "source": [
    "corpus = [' '.join(doc) for doc in new_docs]"
   ]
  },
  {
   "cell_type": "code",
   "execution_count": 14,
   "metadata": {
    "id": "T-72RddHDIME"
   },
   "outputs": [
    {
     "data": {
      "text/plain": [
       "'connectivity versus entropy yaser s. abu mostafa california institute of technology pasadena ca 91125 abstract how doe the connectivity of neural network numb of synapsis per neuron relate to the complexity of the problem it can handle measure by the entropy switch theory would suggest no relation at all since all boolean function can be implement use circuit with very low connectivity e.g. use two input nand gate however for network that learn problem from example use local learn rule we prove that the entropy of the problem become low bind for the connectivity of the network introduction the much distinguish feature of neural network be their ability to spon- taneously learn the desire function from train sample i.e. their ability to program themselves clearly give neural network can not just learn any function there must be some restriction on which network can learn which function one obvious restriction which be independent of the learn aspect be that the network must be big enough to accommodate the circuit complex- ity of the function it will eventually simulate be there restriction that arise merely from the fact that the network be expect to learn the function rather than be purposely design for the function this paper report restriction of this kind the result impose low bind on the connectivity of the network num- ber of synapsis per neuron this low bind can only be consequence of the learn aspect since switch theory provide purposely design circuit of low connectivity e.g. use only two input nand gate capable of imple- menting any boolean function 1,2 it also follow that the learn mechanism must be restrict for this low bind to hold powerful mechanism can be american institute of physic 1988 design that will find one of the low connectivity circuit perhaps by exhaus- tive search and hence the low bind on connectivity can not hold in general indeed we restrict the learn mechanism to be local when train sample be load into the network each neuron have access only to that bit carry by itself and the neuron it be directly connect to this be strong assumption that exclude sophisticate learn mechanism use in neural network model but may be much plausible from biological point of view the low bind on the connectivity of the network be give in term of the entropy of the environment that provide the train sample entropy be quantitative measure of the disorder or randomness in environment or equiv- alently the amount of information need to specify the environment there be many different way to define entropy and many technical variation of this concept in the next section we shall introduce the formal definition and result but we start here with informal exposition of the idea involve the environment in our model produce pattern represent by bit x\\x7f ... xn pixel in the picture of visual scene if you will only different pattern can be generate by give environment where \\x7fv the entropy be essentially log no knowledge be assume about which pattern the en- vironment be likely to generate only that there be of them in the learn process huge numb of sample pattern be generate at random from the environment and input to the network one bite per neuron the network use this information to set its internal parameter and gradually tune itself to this particular environment because of the network architecture each neuron know only its own bite and at well the bit of the neuron it be directly connect to by synapse hence the learn rule be local neuron doe not have the benefit of the entire global pattern that be be learn after the learn process have take place each neuron be ready to perform function derned by \\x7fvhat it have l\\x7farned the collective interaction of the function of the neuron be what define the overall function of the network the main result of this paper be that roughly speak if the connectivity of the network be little than the entropy of the environment the network can not learn about the environment the idea of the proof be to show that if the connectivity be small the final function of each neuron be independent of the environment and hence to conclude that the overall network have accumulate no information about the environment it be suppose to learn about formal result neural network be undirected graph the vertex be the neuron and the edge be the synapsis label the neuron 1,-.- and define \\x7f1 .. n\\x7f to be the set of neuron connect by synapse to neuron together with neuron itself environment be subset c0 1\\x7f \\x7fv each be sample from the environment during learn zl,- z\\x7fv the bit of be load into the neuron 1, ... ,n respectively consider arbitrary neuron and telabel everything to make k\\x7f become 1, ... ,k thus the neuron see the \\ufeff1 coordinate of each x. since our result be asymptotic in we will specify function of where a(n satifies limn-.,o a(n ao ao since the result be also statistical we will consider the ensemble of environment where on and/\\x7f /\\x7f(n satifies limn_.oo/\\x7f(n /\\x7fo /\\x7fo the probability distribution on be uniform any environmen\\x7f likely occur any o\\x7fher the neuron see only \\x7fhe firs\\x7f coordinate of each generate by \\x7fhe environment e. for each we define the function 0,1 0,1,2,-- where n(a\\x7f ... a\\x7f l{x6e z,=a fork l,--.,k}l and the normalize version the function describe the relative frequency of occurrence for each of the \\x7fr binary vector z\\x7fr zl jr run through all vector in e. in other word \\x7f/specifies the projection of see by the neuron clearly v(a for all \\x7fr and z&e{o,1}k v(a correspond to two environment el and es we will have two function vl and bt if//1 be not distinguishable from the neuron can not tell the difference between ea and es the distinguishability between btl and t/ can be measure by d(l l\\'l/2 -- the range of d(t/1,\\x7f be d(t/1,\\x7f where correspond to complete indistinguishability while correspond to maximum distinguishability we axe now in position to state the main result let e\\x7f and es be independently select environment from accord to the uniform probability distribution d(vl v\\x7f be now random variable and we be interest in the expect value e(d(vl v2 the case where e(d(vl v2 -- correspond to the neuron get no information about the environment while the case where e(d(vl v2 correspond to the neuron get maximum information the theorem predict in the limit one of this extreme depend on how the connectivity ao compare to the entropy /\\x7fo theorem if ao then lim\\x7fv-.\\x7fo d(vl v2 if c\\x7fo \\x7fo then limn._.oos(d(\\x7f,,,v2 the proof be give in the appendix but the idea be easy to illustrate infor- mally suppose k+\\x7f correspond to part of the theorem for much environment the \\ufeff1 bit of go through all possible val- ues approximately time each go through all possible value once therefore the pattern see by the neuron be draw from the fix ensemble of all binary vector of length with essentially uniform probability distribution i.e. be the same for much environment this mean that statistically the neuron will end up do the same function regardless of the environment at hand what about the opposite case where k-\\x7f correspond to part of the theorem now with only \\x7f-\\x7f pattern available from the environment the \\ufeff1 bit of can assume at much k-\\x7f value out of the possible value binary vector of length can assume in principle furthermore which value can be assume depend on the particular environment at hand i.e. doe depend on the environment therefore although the neuron still doe not have the global picture the information it have say something about the environment acknowledgement this work be support by the air force office of scientific research under grant afosr-86 0296 appendix in this appendix we prove the main theorem we start by discuss some basic property about the ensemble of environment since the probability distribution on be uniform and since 2h\\x7f we have which be equivalent to generate by choose element \\x7fv with uniform probability without replacement it follow that pr(x6e)= 2\\x7f while for x2 h-1 pr(xl\\x7fe xi\\x7fe 2\\x7f 2\\x7f v_l and so on the function and be define on bite vector random variable for fix be independent of the statistic of r\\x7f(a pr(r\\x7f(sx be pr(r\\x7f(s\\x7f be which follow from the symmetry with respect to each bite of a. the same hold for the statistic of \\x7f(a the expect value e(r\\x7f(a h2 -k object go into cell hence e(\\x7f(a -\\x7f. we now restate and prove the theorem theorem if c\\x7fo \\x7fo then lim\\x7fr-.\\x7fo d(\\x7fl \\x7f2 if ao \\x7fo then limn-\\x7fo d(\\x7fl \\x7f2 proof we expand d(\\x7fl \\x7f2 follow where n\\x7f and n2 denote nl(0.--0 and n2(0 .. -0 respectively and the last step follow from the fact that the statistic of nl(a and n2(a be independent of a. therefore to prove the theorem we evaluate e(irh- r\\x7f21 for large n. assume ao f\\x7fo let denote n(0 ... and consider pr(n for r\\x7f to be zero all string of bit start with have must not be in the environment e. hence pr(r\\x7f 1- -- 2)(1 \\x7fr 2\\x7f 2\\x7fr_\\x7f where the \\ufeff1 term be the probability that ... 00 the term be the probability that 0.--o1 give that 0- .. o0 and so on h2-m\\'(1 -- 2-x 2h2-\\x7fr2 \\x7fv 2h2 -k 2n -- hence pr(n pr(n2 pr(n 2h2 -k however e(n e(n2 h2 -\\x7f. therefore pr(rtl rt2 -- j)li -- jl i=0 pr(nl i)pr(n2 j)l jl i=0 j=0 pt(hi 0)pr(n2 j)j pt(hi /)pr(n2 0)i i=0 which follow by throw away all the term where neither nor be zero the term where both be zero appear twice for convenience but this term be zero anyway pr(nl 0)e(n2 pr(n2 0)e(rh 2(1- 2h2-\\x7f)h2 -\\x7f substitute this estimate in the expression for e(d(t\\x7fl t\\x7f2 we get e(d(//1,//2 2he(lnl -- \\x7f-\\x7f 2(1- 2h2-k)h2 -\\x7ft 2h2 -k f\\x7f-\")\\x7fv since ao /\\x7fo by assumption this low bind go to go to infinity since be also upper bind for d(\\x7fl \\x7f2 and hence upper bind for the expect value e(d(/ l,/ lim\\x7fv-.oo e(d(/ \\x7f,/\\x7f2 must be assume ao \\x7fo consider to evaluate e([n h2-k we estimate the variance of and use the fact that e([n- h2-ki va,\\x7f\\x7f recall that h2 -\\x7f e(n since vat(n e(n e(n we need estimate for e(n2 we write eaei0.1)n-\\x7f \\x7fa where if 0.-.0a 5\\x7f otherwise in this notation e(n can be write 0,1 be{0,1 for the diagonal term h2 -/v there be such diagonal term hence total contribution of h2 -\\x7fr h2 -k to the sum for the off diagonal term e(5 sb pr(5 sb pr(5 1)pr(sb l[\\x7fa h-1 -- -- r\\x7f \\x7fr there be 2\\x7fr-\\x7f(2 \\x7fv such off diagonal term hence total contribution of 2\\x7fv-\\x7f(2n h(h h,\\x7f_k\\x7f2 \\x7fv --\\'\\x7f1 2n(2n--1 -- \\x7f--i to the sum putt the contribution from the diagonal and off diagonal term together we get wr(n e(n e(n h2-k h2-k)a2\\x7fv h2-k h2-\\x7f)a h2_\\x7f h2 -k 2h2 -\\x7f the last step follow since h2 -k be much small than \\x7fr therefore e(in h2-\\x7f v\\x7f 2h2-\\x7f substitute this estimate in the expression for we get since cto by assumption this upper bind go to go to infinity since be also low bind for d(yx you and hence low bind for the expect value e(d(\\x7f,x,\\x7f,a lim\\x7fo e(d(\\x7f,\\x7f,\\x7f,a must be reference y. abu mostafa neural network for computing?,\"aip conference pro- ceedings 151 neural network for compute j. denker ed pp 1986 z. kohavi switch and finite automaton theory mcgraw hill 1978 y. abu mostafa the complexity of information extraction,\"ieee trans on information theory vol it-32 pp 513 525 july 1986 y. abu mostafa complexity in neural systems,\"in analog vlsiand neural system by c. mead addison wesley 1988'"
      ]
     },
     "execution_count": 14,
     "metadata": {},
     "output_type": "execute_result"
    }
   ],
   "source": [
    "corpus[0]"
   ]
  },
  {
   "cell_type": "markdown",
   "metadata": {
    "id": "5Nu0eT7OXCzD"
   },
   "source": [
    "## 11-02 データ行列の作成\n",
    "* NMFの場合、TF-IDFで単語の重みを求めて各文書をベクトル化する。\n",
    "* LDAの場合、単に単語の出現頻度を重みとして各文書をベクトル化する。"
   ]
  },
  {
   "cell_type": "markdown",
   "metadata": {
    "id": "vo8oPlaMCzoM"
   },
   "source": [
    "### sklearnのCountVectorizerで疎行列化する"
   ]
  },
  {
   "cell_type": "markdown",
   "metadata": {
    "id": "0pyLBUfSXTUL"
   },
   "source": [
    "* 全文書の半分より多い文書に現れる単語は、高頻度語とみなして削除する。\n",
    "* 10件未満の文書にしか現れない単語は、低頻度語とみなして削除する。"
   ]
  },
  {
   "cell_type": "code",
   "execution_count": 15,
   "metadata": {
    "id": "zrj0mmMrCzNI"
   },
   "outputs": [],
   "source": [
    "from sklearn.feature_extraction.text import CountVectorizer\n",
    "\n",
    "vectorizer = CountVectorizer(max_df=0.5, min_df=10, stop_words='english')\n",
    "X = vectorizer.fit_transform(corpus)"
   ]
  },
  {
   "cell_type": "code",
   "execution_count": 16,
   "metadata": {
    "id": "Diy077KvDdxi"
   },
   "outputs": [
    {
     "name": "stdout",
     "output_type": "stream",
     "text": [
      "  (0, 2822)\t12\n",
      "  (0, 9123)\t1\n",
      "  (0, 3692)\t9\n",
      "  (0, 9437)\t1\n",
      "  (0, 1519)\t4\n",
      "  (0, 5971)\t4\n",
      "  (0, 2370)\t1\n",
      "  (0, 4936)\t2\n",
      "  (0, 8535)\t1\n",
      "  (0, 6598)\t1\n",
      "  (0, 2356)\t1\n",
      "  (0, 1360)\t1\n",
      "  (0, 8444)\t3\n",
      "  (0, 6165)\t27\n",
      "  (0, 7376)\t1\n",
      "  (0, 2742)\t3\n",
      "  (0, 4434)\t1\n",
      "  (0, 8424)\t3\n",
      "  (0, 8349)\t1\n",
      "  (0, 7377)\t1\n",
      "  (0, 2249)\t2\n",
      "  (0, 4757)\t1\n",
      "  (0, 2567)\t4\n",
      "  (0, 4222)\t2\n",
      "  (0, 7631)\t2\n",
      "  :\t:\n",
      "  (0, 6979)\t1\n",
      "  (0, 2459)\t1\n",
      "  (0, 252)\t1\n",
      "  (0, 3187)\t1\n",
      "  (0, 3539)\t1\n",
      "  (0, 6889)\t2\n",
      "  (0, 354)\t2\n",
      "  (0, 4036)\t1\n",
      "  (0, 2006)\t1\n",
      "  (0, 5738)\t1\n",
      "  (0, 4525)\t1\n",
      "  (0, 345)\t1\n",
      "  (0, 3899)\t1\n",
      "  (0, 4679)\t1\n",
      "  (0, 8763)\t1\n",
      "  (0, 9192)\t1\n",
      "  (0, 592)\t1\n",
      "  (0, 851)\t1\n",
      "  (0, 864)\t1\n",
      "  (0, 5204)\t1\n",
      "  (0, 8464)\t1\n",
      "  (0, 1758)\t1\n",
      "  (0, 5749)\t1\n",
      "  (0, 1604)\t1\n",
      "  (0, 9290)\t1\n"
     ]
    }
   ],
   "source": [
    "print(X[0])"
   ]
  },
  {
   "cell_type": "code",
   "execution_count": 17,
   "metadata": {
    "id": "8LVXuO9GDysO"
   },
   "outputs": [
    {
     "name": "stdout",
     "output_type": "stream",
     "text": [
      "['00', '000', '0000', '000000', '0001', '0005', '001', '0010', '002', '0025', '003', '004', '005', '006', '007', '008', '009', '01', '010', '01003', '011', '0114', '012', '013', '014', '015', '016', '017', '018', '019', '02', '020', '0200', '021', '02138', '02139', '02173', '022', '02254', '023', '024', '025', '027', '02912', '03', '030', '031', '033', '035', '038', '04', '040', '0430', '045', '05', '050', '051', '052', '06', '062', '06520', '07', '075', '07733', '07932', '07960', '07974', '08', '08540', '086', '09', '095', '096', '0_', '0a', '0e', '0i', '0j', '0k', '0n', '0o', '0s', '0v', '0w', '0x', '100', '1000', '10000', '100000', '1001', '10010', '1002', '1003', '1004', '1005', '1006', '1007', '1008', '1009', '101', '1010', '1011', '1012', '1013', '1014', '1015', '1016', '1017', '1018', '1019', '102', '1020', '1021', '1022', '1023', '1024', '1025', '1026', '1027', '1028', '103', '1030', '1031', '1032', '1033', '1034', '1035', '1036', '1037', '1038', '1039', '104', '1040', '1041', '1042', '1044', '1045', '1046', '1048', '1049', '105', '1050', '1051', '1052', '1053', '1054', '1055', '1056', '1057', '1058', '1059', '10598', '106', '1060', '1062', '1063', '1064', '1065', '1069', '107', '1070', '1071', '1073', '1074', '1076', '1077', '1079', '108', '1080', '1084', '1086', '1087', '1088', '109', '1095', '10x10', '110', '1100', '111', '1111', '1119', '112', '1129', '113', '1133', '1134', '1135', '114', '1140', '1142', '1147', '115', '1158', '1159', '116', '1160', '1161', '117', '1177', '1178', '118', '1185', '119', '11th', '120', '1200', '121', '1211', '122', '123', '124', '12489', '125', '1250', '126', '127', '128', '128x128', '129', '12th', '13', '130', '1300', '131', '1317', '132', '1323', '133', '134', '135', '136', '137', '138', '139', '13th', '14', '140', '1400', '141', '1415', '142', '143', '144', '145', '146', '147', '148', '149', '1492', '150', '1500', '15000', '151', '152', '15213', '15260', '153', '154', '155', '156', '157', '158', '159', '15th', '16', '160', '1600', '16000', '161', '162', '163', '164', '165', '166', '167', '168', '169', '16x16', '17', '170', '1700', '171', '172', '173', '174', '175', '176', '177', '178', '179', '18', '180', '1800', '181', '182', '183', '184', '185', '186', '187', '188', '189', '19', '190', '1900', '191', '19104', '192', '193', '194', '1940', '1943', '1947', '1948', '1949', '195', '1950', '1951', '1952', '1953', '1955', '1956', '1957', '1958', '1959', '196', '1960', '1961', '1962', '1963', '1964', '1965', '1966', '1967', '1968', '1969', '197', '1970', '1971', '1972', '1973', '1974', '1975', '1976', '1977', '1978', '1979', '198', '1980', '1981', '1982', '1983', '1984', '1985', '1986', '1987', '1988', '1988a', '1988b', '1989a', '1989b', '199', '1990', '1990a', '1990b', '1991', '1991a', '1991b', '1992', '1992a', '1992b', '1993', '1993a', '1993b', '1994', '1994a', '1994b', '1995', '1995a', '1996', '1996a', '1996b', '1997', '1998', '1999', '1a', '1a4', '1c', '1d', '1i', '1if', '1it', '1n', '1o', '1og', '1ogp', '1oo', '1pz', '1s', '1st', '1the', '1v', '200', '2000', '20000', '2006', '2007', '201', '202', '203', '204', '2048', '205', '206', '207', '20742', '208', '209', '20ms', '21', '210', '2100', '211', '212', '21218', '213', '214', '215', '216', '217', '218', '219', '22', '220', '2200', '221', '222', '223', '224', '225', '226', '227', '228', '229', '23', '230', '231', '232', '233', '234', '235', '236', '237', '2379', '238', '239', '24', '240', '2400', '241', '242', '243', '244', '245', '246', '247', '248', '249', '25', '250', '2500', '251', '252', '253', '254', '255', '2554', '2558', '256', '257', '258', '259', '26', '260', '261', '262', '263', '264', '265', '266', '2662', '267', '268', '269', '27', '270', '271', '272', '273', '274', '275', '276', '277', '278', '279', '27r', '28', '280', '2800', '281', '282', '283', '284', '285', '286', '287', '288', '289', '29', '290', '291', '292', '293', '294', '295', '296', '297', '298', '299', '2a', '2a2', '2b', '2c', '2d', '2e', '2exp', '2f', '2h', '2i', '2j', '2k', '2l', '2ls', '2m', '2n', '2nd', '2note', '2o', '2oo', '2p', '2q', '2r', '2rn', '2rr', '2s', '2t', '2the', '2this', '2u', '2v', '2w', '2we', '2x', '2x2', '2y', '2z', '30', '300', '3000', '30000', '301', '302', '303', '304', '305', '306', '307', '308', '3088', '309', '3092', '31', '310', '311', '312', '313', '314', '315', '316', '317', '318', '319', '32', '320', '32000', '321', '322', '323', '324', '325', '326', '327', '328', '329', '33', '330', '331', '332', '333', '334', '335', '336', '337', '338', '339', '34', '340', '341', '342', '343', '344', '345', '346', '347', '348', '349', '35', '350', '3500', '351', '352', '353', '354', '355', '356', '357', '358', '359', '36', '360', '3600', '361', '362', '363', '364', '365', '366', '367', '368', '369', '37', '370', '371', '372', '373', '374', '375', '376', '377', '378', '379', '38', '380', '381', '382', '383', '384', '385', '386', '387', '388', '389', '39', '390', '391', '392', '393', '394', '395', '396', '397', '398', '399', '3a', '3ar', '3b', '3c', '3d', '3e', '3f', '3i', '3j', '3j7', '3n', '3o', '3oo', '3rd', '3the', '3v', '3x3', '40', '400', '4000', '40000', '401', '402', '403', '404', '405', '406', '407', '4072', '408', '409', '4096', '41', '410', '411', '412', '413', '414', '415', '416', '417', '418', '419', '42', '420', '421', '422', '4225', '423', '424', '425', '426', '427', '428', '429', '43', '430', '431', '432', '43210', '433', '434', '435', '436', '437', '438', '439', '44', '440', '441', '442', '443', '444', '445', '446', '447', '448', '449', '45', '450', '451', '452', '453', '454', '455', '456', '457', '458', '459', '46', '460', '461', '462', '463', '464', '465', '466', '467', '468', '469', '47', '470', '471', '472', '473', '474', '475', '476', '477', '478', '479', '47907', '48', '480', '4800', '481', '482', '483', '484', '485', '486', '487', '488', '489', '49', '490', '491', '492', '493', '494', '495', '496', '497', '498', '499', '4a', '4b', '4c', '4d', '4e', '4i', '4k', '4n', '4o', '4oo', '4s', '4th', '4the', '4v', '4x', '4x4', '50', '500', '5000', '50000', '501', '502', '503', '504', '505', '506', '507', '508', '509', '51', '510', '511', '512', '513', '514', '515', '516', '517', '518', '519', '52', '520', '521', '522', '523', '524', '525', '526', '527', '528', '529', '53', '530', '5300', '531', '53117', '532', '533', '534', '535', '536', '537', '53706', '538', '539', '54', '540', '541', '542', '543', '544', '545', '546', '547', '548', '549', '55', '550', '551', '552', '553', '554', '555', '556', '557', '558', '559', '56', '560', '561', '562', '563', '564', '565', '566', '567', '568', '569', '57', '570', '571', '572', '573', '574', '575', '576', '577', '578', '579', '58', '580', '5800', '581', '582', '583', '584', '585', '586', '587', '588', '589', '59', '590', '591', '592', '593', '594', '595', '596', '597', '598', '599', '5a', '5b', '5c', '5d', '5e', '5i', '5ij', '5j', '5k', '5o', '5oo', '5r', '5th', '5v', '5x5', '60', '600', '6000', '60000', '601', '602', '603', '604', '605', '6056', '606', '60637', '607', '608', '609', '61', '610', '611', '612', '613', '614', '615', '616', '617', '618', '61801', '619', '62', '620', '621', '622', '623', '624', '625', '626', '627', '628', '629', '63', '630', '631', '632', '633', '634', '635', '636', '637', '638', '639', '64', '640', '641', '642', '643', '644', '645', '646', '647', '648', '649', '64x64', '65', '650', '651', '652', '653', '654', '655', '656', '657', '658', '659', '66', '660', '661', '662', '663', '664', '665', '666', '667', '668', '669', '67', '670', '671', '672', '673', '674', '675', '676', '677', '678', '679', '68', '680', '681', '682', '683', '684', '685', '686', '687', '688', '689', '69', '690', '691', '692', '693', '694', '695', '696', '697', '698', '699', '69978', '6a', '6b', '6c', '6i', '6j', '6o', '6oo', '6th', '6x6', '70', '700', '7000', '701', '702', '703', '704', '705', '706', '707', '708', '709', '71', '710', '711', '712', '713', '714', '715', '716', '717', '718', '719', '72', '720', '721', '722', '723', '724', '725', '726', '727', '728', '729', '73', '730', '731', '732', '733', '734', '735', '736', '737', '738', '739', '74', '740', '741', '742', '743', '744', '745', '746', '747', '748', '749', '75', '750', '7508', '751', '7512', '752', '753', '754', '755', '756', '757', '758', '759', '76', '760', '761', '76100', '762', '763', '764', '765', '766', '767', '768', '769', '77', '770', '771', '772', '773', '774', '775', '776', '777', '778', '779', '78', '780', '781', '782', '783', '784', '785', '786', '787', '788', '789', '79', '790', '791', '792', '793', '794', '795', '796', '797', '798', '799', '7a', '7b', '7e', '7et', '7i', '7o', '7p', '7r', '7t', '7th', '7v', '7x7', '80', '800', '8000', '801', '802', '803', '80309', '804', '805', '806', '807', '808', '809', '81', '810', '811', '812', '813', '814', '815', '816', '817', '81730', '818', '819', '82', '820', '821', '822', '823', '824', '825', '826', '827', '828', '829', '83', '830', '831', '832', '833', '834', '835', '836', '837', '838', '839', '8390', '8394', '84', '840', '841', '842', '843', '844', '845', '846', '847', '848', '849', '85', '850', '851', '852', '853', '854', '855', '856', '857', '858', '85800', '859', '86', '860', '8604', '861', '862', '863', '864', '865', '866', '867', '868', '869', '87', '870', '871', '8716324', '872', '874', '875', '87545', '876', '877', '8779', '878', '8783', '879', '88', '880', '8801', '881', '882', '883', '884', '885', '886', '888', '889', '89', '890', '891', '892', '893', '894', '895', '896', '897', '898', '899', '8i', '8o', '8th', '8x8', '90', '900', '9000', '90024', '901', '902', '903', '904', '905', '9058450', '906', '907', '908', '909', '91', '910', '91000', '911', '91109', '91125', '912', '913', '914', '915', '916', '917', '918', '919', '91904', '92', '920', '92037', '92093', '921', '92186', '922', '923', '924', '925', '926', '927', '928', '929', '93', '930', '931', '932', '933', '934', '935', '936', '937', '938', '939', '94', '940', '94025', '94035', '941', '94143', '942', '943', '94304', '94305', '944', '945', '946', '947', '94704', '94720', '948', '949', '95', '950', '951', '95134', '952', '953', '954', '955', '956', '957', '958', '959', '96', '960', '961', '962', '963', '964', '965', '966', '967', '968', '969', '97', '970', '97006', '971', '972', '97291', '973', '974', '975', '976', '977', '978', '979', '98', '980', '981', '98195', '982', '983', '984', '985', '986', '987', '988', '989', '99', '990', '991', '992', '993', '994', '995', '996', '997', '998', '999', '9i', '9j', '9o', '9th', '_1', '_2', '__', '_a', '_c', '_i', '_l', '_n', '_o', '_x', 'a0', 'a1', 'a2', 'a3', 'a4', 'a5', 'a7', 'aa', 'aaa', 'aaai', 'ab', 'abandon', 'abbott', 'abbreviate', 'abeles', 'ability', 'able', 'ables', 'ablex', 'ably', 'abnormal', 'abolish', 'abound', 'abrupt', 'abruptly', 'abscissa', 'absence', 'absent', 'absolute', 'absolutely', 'absorb', 'abstr', 'abstraction', 'abu', 'ac', 'aca', 'acad', 'academic', 'academy', 'accelerate', 'acceleration', 'accelerator', 'accent', 'accentuate', 'accept', 'acceptable', 'acceptance', 'access', 'accessible', 'accommodate', 'accomodate', 'accompany', 'accomplish', 'accord', 'accordance', 'accordingly', 'account', 'accrue', 'accu', 'accumulate', 'accumulation', 'accumulator', 'accuracy', 'accurate', 'accurately', 'ace', 'acetylcholine', 'achievable', 'achievement', 'acid', 'ackley', 'acknowledge', 'acknowledgement', 'acknowledgment', 'acm', 'acous', 'acoust', 'acoustic', 'acoustical', 'acquire', 'acquisition', 'act', 'acta', 'acter', 'acteristics', 'acti', 'action', 'activ', 'activa', 'activate', 'activation', 'active', 'actively', 'activity', 'actor', 'actu', 'actual', 'actually', 'actuator', 'acuity', 'acute', 'acyclic', 'ad', 'adaboost', 'adaline', 'adam', 'adams', 'adap', 'adapt', 'adapta', 'adaptability', 'adaptable', 'adaptation', 'adaption', 'adaptive', 'adaptively', 'add', 'addi', 'addison', 'addition', 'additional', 'additionally', 'additive', 'address', 'addressable', 'adelson', 'adequate', 'adequately', 'adhere', 'adjacency', 'adjacent', 'adjoin', 'adjust', 'adjustable', 'adjustment', 'administration', 'admissible', 'admission', 'admit', 'adopt', 'adult', 'adv', 'advan', 'advance', 'advantage', 'advantageous', 'adversely', 'advice', 'advocate', 'ae', 'aea', 'aerial', 'aeronautics', 'aerospace', 'aertsen', 'af', 'afb', 'affect', 'afferent', 'afferents', 'affine', 'afford', 'afosr', 'ag', 'agation', 'age', 'agency', 'agent', 'aggregate', 'aggregation', 'aggressive', 'agnostic', 'ago', 'agonist', 'agree', 'agreement', 'ah', 'aha', 'ahead', 'ahmad', 'ai', 'aic', 'aid', 'aii', 'aij', 'aim', 'ain', 'aining', 'aip', 'air', 'aircraft', 'aj', 'ak', 'akaike', 'akin', 'alamitos', 'alamos', 'alan', 'alarm', 'albeit', 'albrecht', 'albuquerque', 'albus', 'alent', 'alert', 'alex', 'alexander', 'alexandre', 'alfred', 'algebra', 'algebraic', 'algebraically', 'algo', 'algorithmic', 'alias', 'align', 'alignment', 'alike', 'alization', 'allel', 'allen', 'alleviate', 'allocate', 'allocation', 'allowable', 'ally', 'almeida', 'alon', 'aloud', 'alpha', 'alphabet', 'als', 'alspector', 'alter', 'alteration', 'alterna', 'alternate', 'alternately', 'alternation', 'alternative', 'alternatively', 'alto', 'altogether', 'amari', 'amax', 'ambient', 'ambiguity', 'ambiguous', 'ambitious', 'ameliorate', 'amenable', 'amer', 'america', 'american', 'ames', 'amherst', 'amino', 'amir', 'amit', 'amp', 'ampa', 'ample', 'amples', 'ampli', 'amplification', 'amplifier', 'amplify', 'amplitude', 'ams', 'amsterdam', 'ana', 'anal', 'analog', 'analogous', 'analogously', 'analogue', 'analogy', 'analy', 'analyse', 'analytic', 'analytically', 'analyze', 'analyzer', 'anandan', 'anatomical', 'anatomically', 'anatomy', 'ance', 'ances', 'ancestor', 'anders', 'andersen', 'anderson', 'andreas', 'andreou', 'andrew', 'andy', 'anesthetize', 'angeles', 'angle', 'angluin', 'angular', 'animal', 'anism', 'anisotropic', 'ann', 'annals', 'anneal', 'anns', 'annu', 'annual', 'annular', 'anomalous', 'anonymous', 'ans', 'ansatz', 'answer', 'ant', 'antagonist', 'antagonistic', 'antenna', 'anterior', 'anthony', 'anti', 'anticipate', 'anu', 'anymore', 'ao', 'ap', 'apart', 'aperiodic', 'aperture', 'apical', 'app', 'apparatus', 'apparent', 'apparently', 'appeal', 'appear', 'appearance', 'append', 'appendix', 'appl', 'apple', 'appli', 'applica', 'applicability', 'applicable', 'appreciable', 'appreciate', 'appro', 'appropri', 'appropriate', 'appropriately', 'approx', 'approxi', 'approxima', 'approximate', 'approximately', 'approximation', 'approximator', 'approximators', 'apr', 'april', 'apriori', 'aq', 'ar', 'aration', 'arbi', 'arbib', 'arbitrarily', 'arbitrary', 'arbor', 'arc', 'arch', 'archi', 'architec', 'architectural', 'architecture', 'archive', 'ard', 'area', 'arg', 'argmax', 'argmin', 'argue', 'argument', 'aries', 'arise', 'arithmetic', 'arline', 'arm', 'army', 'aro', 'arousal', 'arpa', 'arrange', 'arrangement', 'array', 'arrival', 'arrive', 'arrow', 'art', 'arti', 'article', 'articulate', 'articulation', 'articulator', 'articulatory', 'artifact', 'artifi', 'artificial', 'artificially', 'ary', 'ascend', 'ascent', 'ascertain', 'ase', 'ash', 'asi', 'aside', 'ask', 'asme', 'aspect', 'ass', 'assemble', 'assembly', 'assert', 'assertion', 'assess', 'assessment', 'asset', 'assign', 'assignment', 'assist', 'assistance', 'asso', 'assoc', 'associ', 'associa', 'associate', 'association', 'associative', 'assp', 'assump', 'assumption', 'assure', 'ast', 'asterisk', 'aston', 'astronomy', 'asymmetric', 'asymmetrical', 'asymmetry', 'asymp', 'asymptote', 'asymptotic', 'asymptotically', 'asynchronous', 'asynchronously', 'ata', 'ated', 'ates', 'athe', 'athena', 'atick', 'ating', 'ation', 'ations', 'ative', 'atively', 'atiya', 'atkeson', 'atl', 'atla', 'atlanta', 'atom', 'atr', 'att', 'attach', 'attack', 'attain', 'attainable', 'attempt', 'attend', 'attention', 'attentional', 'attentive', 'attenuate', 'attenuation', 'attias', 'attract', 'attraction', 'attractive', 'attractor', 'attribute', 'ature', 'au', 'aud', 'audio', 'audition', 'auditory', 'aug', 'augment', 'august', 'austin', 'australia', 'australian', 'austria', 'author', 'auto', 'autoassociation', 'autoassociative', 'autocorrelation', 'autoencoder', 'autoencoders', 'automate', 'automatic', 'automatically', 'automation', 'automaton', 'autonomous', 'autonomously', 'autoregressive', 'auxiliary', 'av', 'avail', 'availability', 'available', 'ave', 'avenue', 'aver', 'avg', 'aviv', 'avoid', 'avoidance', 'aw', 'awake', 'award', 'aware', 'away', 'awi', 'awij', 'awl', 'ax', 'axe', 'axi', 'axial', 'axis', 'axon', 'axonal', 'ay', 'az', 'azimuth', 'b0', 'b1', 'b2', 'b4', 'ba', 'bach', 'backgammon', 'background', 'backprop', 'backpropa', 'backpropaga', 'backpropagate', 'backpropagated', 'backpropagating', 'backpropagation', 'backward', 'backwards', 'bad', 'badly', 'bag', 'bair', 'baird', 'baker', 'bal', 'balance', 'baldi', 'ball', 'ballard', 'ballistic', 'baltimore', 'baluja', 'band', 'bandpass', 'bandwidth', 'bank', 'bar', 'barak', 'barbara', 'barber', 'barely', 'barkai', 'barlow', 'barn', 'barnard', 'barnes', 'barney', 'barrier', 'barron', 'barrow', 'bart', 'bartlett', 'barto', 'basal', 'baseline', 'basic', 'basically', 'basilar', 'basin', 'basis', 'bat', 'batch', 'battery', 'bauer', 'baum', 'baxter', 'bay', 'bayes', 'bayesian', 'baylor', 'bc', 'bcm', 'beam', 'bear', 'beat', 'beaverton', 'becker', 'beckman', 'bed', 'begin', 'behav', 'behave', 'behavior', 'behavioral', 'behaviorally', 'behaviour', 'behavioural', 'belgium', 'belief', 'believe', 'bell', 'bellcore', 'bellman', 'belmont', 'belong', 'ben', 'bench', 'benchmark', 'bend', 'beneath', 'beneficial', 'benefit', 'bengio', 'benign', 'ber', 'bergen', 'berger', 'bergman', 'berkeley', 'berlin', 'bernard', 'bernhard', 'bernoulli', 'bernstein', 'berry', 'bers', 'bert', 'bertsekas', 'best', 'bet', 'beta', 'bethesda', 'bf', 'bh', 'bi', 'bialek', 'bias', 'bibliography', 'bidirectional', 'biehl', 'bienenstock', 'bifurcation', 'big', 'bigram', 'bij', 'bilateral', 'bilinear', 'bilities', 'bility', 'billion', 'bimodal', 'bin', 'binary', 'bination', 'binations', 'binaural', 'bind', 'bined', 'binocular', 'binomial', 'bio', 'biochemical', 'biol', 'biolog', 'biological', 'biologically', 'biology', 'biomedical', 'biometrika', 'biophys', 'biophysical', 'biophysically', 'biophysics', 'biosci', 'bipolar', 'bird', 'birmingham', 'birth', 'bisect', 'bishop', 'bistable', 'bit', 'bite', 'bivariate', 'bizzi', 'bj', 'bk', 'bl', 'black', 'blake', 'blank', 'blasdel', 'ble', 'blegdamsvej', 'blend', 'blind', 'blob', 'block', 'blood', 'blow', 'blowfly', 'blue', 'blum', 'blumer', 'blur', 'bm', 'bn', 'bo', 'boahen', 'board', 'bob', 'body', 'bohr', 'bold', 'bolic', 'boltzmann', 'bond', 'bone', 'bonn', 'book', 'boolean', 'boost', 'bootstrap', 'bor', 'border', 'borel', 'borrow', 'boser', 'boston', 'bot', 'bottleneck', 'bottou', 'boulder', 'bound', 'boundary', 'bourlard', 'bout', 'boutlard', 'bower', 'bowl', 'box', 'boyan', 'bp', 'bptt', 'br', 'bra', 'brace', 'bracket', 'bradford', 'bradley', 'bradtke', 'brain', 'brainstem', 'braitenberg', 'branch', 'brane', 'braun', 'break', 'breakdown', 'breast', 'bregler', 'breiman', 'brevity', 'brian', 'bridge', 'bridle', 'brief', 'briefly', 'bright', 'brightness', 'bring', 'british', 'broad', 'broadband', 'broadcast', 'broaden', 'broadly', 'brook', 'broomhead', 'brosch', 'brown', 'brownian', 'bruce', 'bruck', 'bruno', 'brunswick', 'brussels', 'brute', 'bs', 'bss', 'bt', 'bu', 'bucket', 'buff', 'buffalo', 'buffer', 'buhmann', 'build', 'bulb', 'bull', 'bulletin', 'bullock', 'bump', 'bundle', 'buntine', 'burden', 'burges', 'burn', 'burr', 'burst', 'bus', 'business', 'busy', 'bution', 'butions', 'butler', 'button', 'buy', 'bw', 'bx', 'bypass', 'byte', 'c0', 'c1', 'c2', 'c3', 'c4', 'ca', 'ca1', 'cable', 'cache', 'cai', 'cal', 'calcium', 'calcu', 'calculate', 'calculation', 'calculus', 'calibrate', 'calibration', 'calif', 'california', 'cally', 'caltech', 'cam', 'cambridge', 'camera', 'camp', 'campbell', 'campus', 'canada', 'canadian', 'canal', 'canberra', 'cancel', 'cancellation', 'cancer', 'candidate', 'canonical', 'cantly', 'cap', 'capa', 'capability', 'capable', 'capac', 'capacitance', 'capacitive', 'capacitor', 'capacity', 'capital', 'capitalize', 'caption', 'capture', 'car', 'card', 'cardiac', 'cardinality', 'cardoso', 'care', 'careful', 'carefully', 'carl', 'carlo', 'carnegie', 'carolina', 'carpenter', 'carrier', 'carry', 'cart', 'cartesian', 'caruana', 'carver', 'cas', 'cascade', 'casdagli', 'casey', 'cassandra', 'cast', 'cat', 'catastrophic', 'catch', 'cate', 'cated', 'categorical', 'categorization', 'categorize', 'category', 'cation', 'cauchy', 'caudal', 'causal', 'causality', 'cause', 'caution', 'cauwenberghs', 'caveat', 'cavity', 'cb', 'cb2', 'cbms', 'cc', 'ccd', 'ccr', 'ccs', 'cd', 'cda', 'ce', 'cease', 'cedex', 'cedure', 'ceedings', 'ceil', 'cell', 'cellular', 'cen', 'cent', 'center', 'cently', 'central', 'centrally', 'centre', 'centroid', 'century', 'cepstral', 'cepstrum', 'cept', 'ception', 'ceptive', 'ceptron', 'cer', 'cerebellar', 'cerebellum', 'cerebral', 'certain', 'certainly', 'certainty', 'ces', 'cess', 'cesses', 'cessfully', 'cessing', 'cf', 'cg', 'cga', 'ch', 'cha', 'chain', 'challenge', 'chamber', 'champaign', 'chan', 'chance', 'chang', 'channel', 'chaos', 'chaotic', 'chap', 'chapman', 'chapter', 'char', 'charac', 'character', 'characterise', 'characteristic', 'characterization', 'characterize', 'charge', 'charles', 'chart', 'chase', 'chaussee', 'chauvin', 'cheap', 'check', 'checker', 'chellappa', 'chemical', 'chemistry', 'chen', 'cheng', 'chervonenkis', 'chess', 'chi', 'chicago', 'child', 'chine', 'chinese', 'chip', 'chitecture', 'cho', 'choi', 'choice', 'cholinergic', 'chophysical', 'chow', 'chris', 'christian', 'christof', 'christopher', 'chronous', 'chu', 'chuck', 'chung', 'chunk', 'ci', 'cial', 'cially', 'ciated', 'ciative', 'cichocki', 'cid', 'cient', 'ciently', 'cients', 'cies', 'cij', 'cir', 'circle', 'circuit', 'circuitry', 'circular', 'circularly', 'circumstance', 'circumvent', 'cis', 'cision', 'cit', 'cite', 'city', 'cj', 'ck', 'cknowle', 'cl', 'claim', 'clamp', 'clarendon', 'clarify', 'clarity', 'clark', 'clas', 'class', 'classi', 'classic', 'classical', 'classifi', 'classifica', 'classification', 'classifier', 'classify', 'clause', 'clay', 'clayton', 'clean', 'clear', 'clearly', 'cleeremans', 'cleveland', 'clever', 'click', 'cliff', 'climb', 'clin', 'clinical', 'clip', 'clique', 'clock', 'clockwise', 'close', 'closely', 'closeness', 'closure', 'cloud', 'clude', 'clue', 'clump', 'clus', 'cluster', 'clutter', 'cm', 'cmac', 'cmos', 'cmu', 'cn', 'cnl', 'cns', 'coarse', 'coarticulation', 'cochlea', 'cochlear', 'cocktail', 'cod', 'code', 'codebook', 'coder', 'codeword', 'coe', 'coef', 'coeffi', 'coefficient', 'coexist', 'cog', 'cognition', 'cognitive', 'cohen', 'coherence', 'coherent', 'coherently', 'cohn', 'coil', 'coin', 'coincide', 'coincidence', 'coincident', 'col', 'cold', 'cole', 'collaboration', 'collapse', 'collateral', 'colleague', 'collect', 'collection', 'collective', 'collectively', 'college', 'colliculus', 'collide', 'collins', 'collision', 'color', 'colorado', 'colt', 'columbus', 'column', 'columnar', 'com', 'combi', 'combina', 'combination', 'combinatorial', 'combine', 'come', 'comer', 'comm', 'command', 'comment', 'commercial', 'commit', 'committee', 'common', 'commonly', 'commu', 'commun', 'communica', 'communicate', 'communication', 'community', 'comon', 'comp', 'compact', 'compactly', 'compactness', 'companion', 'company', 'compar', 'comparable', 'comparative', 'comparatively', 'comparator', 'comparison', 'compartment', 'compartmental', 'compatibility', 'compatible', 'compel', 'compensate', 'compensation', 'compensatory', 'compete', 'competence', 'competition', 'competitive', 'competitor', 'compile', 'compiler', 'comple', 'complement', 'complementary', 'complete', 'completely', 'completeness', 'completion', 'complex', 'complexity', 'complez', 'complicate', 'complication', 'compo', 'component', 'compose', 'composite', 'composition', 'compositional', 'compound', 'comprehensive', 'compress', 'compression', 'comprise', 'compromise', 'compu', 'comput', 'computa', 'computable', 'computational', 'computationally', 'concatenate', 'concatenation', 'concave', 'conceivable', 'conceivably', 'conceive', 'concen', 'concentrate', 'concentration', 'concentric', 'concept', 'conceptual', 'conceptually', 'concern', 'concert', 'concise', 'conclude', 'concomitant', 'concrete', 'concurrent', 'concurrently', 'condense', 'condi', 'conditional', 'conditionally', 'conduc', 'conduct', 'conductance', 'conduction', 'cone', 'conf', 'confer', 'conference', 'confi', 'confidence', 'confident', 'configu', 'configuration', 'configure', 'confine', 'confirm', 'conflict', 'conform', 'confound', 'confront', 'confusable', 'confuse', 'confusion', 'congress', 'conjecture', 'conjugate', 'conjunction', 'conjunctive', 'connec', 'connect', 'connection', 'connectionism', 'connectionist', 'connectivity', 'connor', 'conquer', 'conscious', 'consciousness', 'conse', 'consecutive', 'consensus', 'consequence', 'consequent', 'consequently', 'conservation', 'conservative', 'conserve', 'consid', 'considerable', 'considerably', 'consideration', 'consis', 'consistency', 'consistent', 'consistently', 'consonant', 'const', 'constancy', 'constantly', 'constituent', 'constitute', 'constrain', 'constraint', 'construct', 'construction', 'constructive', 'consult', 'consume', 'consumption', 'cont', 'contact', 'contaminate', 'content', 'context', 'contextual', 'contiguous', 'contin', 'contingency', 'contingent', 'continous', 'continu', 'continually', 'continuation', 'continue', 'continuity', 'continuous', 'continuously', 'continuum', 'contour', 'contract', 'contraction', 'contradict', 'contradiction', 'contradictory', 'contralateral', 'contrary', 'contrast', 'contribute', 'contribution', 'control', 'controllable', 'controller', 'conven', 'convenience', 'convenient', 'conveniently', 'convention', 'conventional', 'conventionally', 'conver', 'converge', 'convergence', 'convergent', 'conversation', 'converse', 'conversely', 'conversion', 'convert', 'converter', 'convex', 'convexity', 'convey', 'convince', 'convolution', 'convolutional', 'convolve', 'coo', 'cook', 'cooke', 'cool', 'coolen', 'cooper', 'cooperate', 'cooperation', 'cooperative', 'coordi', 'coordinate', 'coordination', 'cope', 'copenhagen', 'copy', 'copyright', 'cor', 'cord', 'core', 'corn', 'cornell', 'corner', 'cornput', 'corollary', 'corp', 'corporate', 'corporation', 'corpus', 'corr', 'corre', 'correct', 'correction', 'corrective', 'correctly', 'correctness', 'correla', 'correlate', 'correlation', 'correlational', 'correlator', 'correspon', 'correspondence', 'correspondingly', 'corrupt', 'cortes', 'cortex', 'corti', 'cortical', 'cortico', 'cos', 'cosh', 'cosine', 'cost', 'costly', 'cot', 'cottrell', 'cou', 'council', 'count', 'counter', 'counteract', 'counterclockwise', 'counterexample', 'counterpart', 'couple', 'coupling', 'course', 'cov', 'covariance', 'cover', 'coverage', 'cowan', 'cox', 'cp', 'cpu', 'cq', 'cr', 'crab', 'craft', 'craig', 'crawfords', 'cray', 'crc', 'cre', 'crease', 'create', 'creation', 'credit', 'crete', 'crg', 'cri', 'crick', 'crit', 'criterion', 'criterium', 'crites', 'critic', 'critical', 'critically', 'criticism', 'criticize', 'crl', 'crop', 'cross', 'crosse', 'crossing', 'crossover', 'crosstalk', 'crucial', 'crucially', 'crude', 'cruz', 'cs', 'cse', 'ct', 'cti', 'ction', 'cu', 'cube', 'cubic', 'cue', 'cuit', 'cuits', 'cult', 'culture', 'cumbersome', 'cummings', 'cumulant', 'cumulants', 'cumulative', 'cun', 'cup', 'cur', 'curacy', 'currently', 'curse', 'cursive', 'curvature', 'curve', 'cuss', 'custom', 'customary', 'customer', 'customize', 'cut', 'cutoff', 'cv', 'cvpr', 'cw', 'cx', 'cy', 'cyb', 'cybenko', 'cyber', 'cybern', 'cybernetics', 'cycle', 'cyclic', 'cylinder', 'cylindrical', 'cz', 'd0', 'd1', 'd2', 'da', 'daal03', 'daily', 'dale', 'dam', 'damage', 'damp', 'dan', 'dana', 'danger', 'dangerous', 'daniel', 'danish', 'dard', 'dark', 'darken', 'darkness', 'darpa', 'das', 'dash', 'data', 'database', 'datapoints', 'dataset', 'date', 'dation', 'dations', 'dave', 'david', 'davies', 'davis', 'day', 'dayan', 'db', 'dc', 'dcs', 'dd', 'dead', 'deal', 'dean', 'death', 'debate', 'dec', 'decade', 'decay', 'december', 'decent', 'deci', 'decide', 'decision', 'decisive', 'declare', 'decline', 'deco', 'decode', 'decoder', 'decom', 'decompose', 'decomposition', 'deconvolution', 'decorrelated', 'decorrelating', 'decorrelation', 'decouple', 'decrease', 'decrement', 'dedicate', 'deduce', 'deem', 'deep', 'deeply', 'def', 'default', 'defeat', 'defect', 'defense', 'deficiency', 'deficit', 'definite', 'definition', 'deform', 'deformable', 'deformation', 'deg', 'degeneracy', 'degenerate', 'degradation', 'degrade', 'degree', 'dekker', 'del', 'delay', 'delbriick', 'delete', 'deletion', 'delineate', 'deliver', 'delivery', 'delta', 'demand', 'demon', 'demonstrate', 'demonstration', 'dempster', 'den', 'dence', 'dendrite', 'dendritic', 'denker', 'denmark', 'denominator', 'denote', 'dense', 'densely', 'density', 'dent', 'dentate', 'denver', 'dep', 'depart', 'department', 'departure', 'depen', 'dependence', 'dependency', 'dependent', 'depict', 'depiction', 'depletion', 'depolarization', 'depolarized', 'depolarizing', 'depress', 'depression', 'dept', 'depth', 'der', 'deriva', 'derivation', 'derivative', 'derive', 'derlying', 'derrida', 'des', 'descend', 'descent', 'descrip', 'description', 'descriptive', 'descriptor', 'deserve', 'design', 'designate', 'designer', 'desimone', 'desirable', 'desire', 'despite', 'destination', 'destroy', 'det', 'detec', 'detect', 'detectable', 'detection', 'detector', 'deter', 'deteriorate', 'determin', 'determinant', 'determination', 'deterministic', 'deterministically', 'detrimental', 'deutsche', 'dev', 'devel', 'develop', 'develope', 'development', 'developmental', 'deviate', 'deviation', 'device', 'devise', 'devote', 'devroye', 'deweerth', 'df', 'dfg', 'dg', 'dgement', 'dh', 'di', 'diabetes', 'diag', 'diagnose', 'diagnosis', 'diagnostic', 'diagonal', 'diagram', 'diameter', 'diamond', 'diate', 'dichotomy', 'dictate', 'dicted', 'diction', 'dictionary', 'die', 'diego', 'dient', 'dietterich', 'dif', 'differ', 'differen', 'differencing', 'differentiable', 'differential', 'differentially', 'differentiate', 'differentiation', 'differently', 'differenttable', 'difficult', 'difficulty', 'diffuse', 'diffusion', 'dig', 'digest', 'digit', 'digital', 'digitally', 'digitize', 'dii', 'dij', 'dilation', 'dilemma', 'dim', 'dimen', 'dimension', 'dimensional', 'dimensionality', 'dimensionless', 'diminish', 'din', 'diode', 'dirac', 'direc', 'direct', 'direction', 'directional', 'directionally', 'directly', 'dirichlet', 'dis', 'disable', 'disadvantage', 'disagree', 'disagreement', 'disambiguate', 'disambiguation', 'disappear', 'disc', 'discard', 'discern', 'discharge', 'discipline', 'disconnect', 'discontinuity', 'discontinuous', 'discount', 'discourage', 'discover', 'discovery', 'discrepancy', 'discrete', 'discretization', 'discretize', 'discretized', 'discrim', 'discrimi', 'discrimina', 'discriminability', 'discriminant', 'discriminate', 'discrimination', 'discriminative', 'discriminator', 'discus', 'discuss', 'disease', 'disjoint', 'disjunction', 'disjunctive', 'disk', 'disorder', 'disparate', 'disparity', 'disperse', 'dispersion', 'displace', 'displacement', 'display', 'disregard', 'disrupt', 'dissertation', 'dissimilar', 'dissimilarity', 'dissipate', 'dissipation', 'dist', 'distal', 'distance', 'distant', 'distinct', 'distinction', 'distinctive', 'distinctly', 'distinguish', 'distinguishable', 'distort', 'distortion', 'distractor', 'distri', 'distribu', 'distribute', 'distributional', 'disturb', 'disturbance', 'dition', 'ditional', 'ditions', 'div', 'diverge', 'divergence', 'divergent', 'diverse', 'diversity', 'divide', 'division', 'dj', 'dk', 'dl', 'dm', 'dms', 'dn', 'dna', 'doctoral', 'document', 'dof', 'dog', 'dollar', 'dom', 'domain', 'domany', 'dominance', 'dominant', 'dominate', 'domly', 'don', 'donald', 'dong', 'donoho', 'doom', 'door', 'dopamine', 'dorsal', 'dot', 'double', 'doubt', 'douglas', 'doursat', 'dow', 'downhill', 'downstream', 'downward', 'doya', 'dozen', 'dp', 'dq', 'dr', 'draft', 'drain', 'dramatic', 'dramatically', 'drastic', 'drastically', 'draw', 'drawback', 'dress', 'dreyfus', 'drift', 'drive', 'driver', 'drop', 'drucker', 'drug', 'ds', 'dsp', 'dt', 'dtw', 'du', 'dual', 'duce', 'duced', 'duces', 'duction', 'duda', 'duff', 'dummy', 'duplicate', 'dur', 'duration', 'durbin', 'dure', 'duty', 'dv', 'dw', 'dx', 'dxi', 'dy', 'dye', 'dyer', 'dyi', 'dyna', 'dynam', 'dynamic', 'dynamical', 'dynamically', 'dz', 'e0', 'e1', 'e2', 'e25', 'e7', 'e_', 'ea', 'ear', 'early', 'earn', 'earth', 'ease', 'easily', 'east', 'easy', 'eat', 'eb', 'ec', 'ece', 'echo', 'eckhorn', 'eckmiller', 'ecole', 'econometrics', 'economic', 'economics', 'economy', 'ecs', 'ect', 'ed', 'edelman', 'edge', 'edinburgh', 'edit', 'edition', 'editor', 'eds', 'edu', 'education', 'edward', 'edwards', 'ee', 'eeckman', 'eecs', 'eee', 'eeg', 'eel', 'eet', 'ef', 'eff', 'effec', 'effective', 'effectively', 'effectiveness', 'effector', 'efferent', 'effi', 'efficacy', 'efficiency', 'efficient', 'efficiently', 'effort', 'efron', 'eft', 'egham', 'eh', 'eh9', 'ehrenfeucht', 'ei', 'eigen', 'eigenfaces', 'eigenfunction', 'eigenvalue', 'eigenvector', 'eij', 'ein', 'ej', 'ek', 'el', 'elaborate', 'elaboration', 'elapse', 'elastic', 'elbow', 'ele', 'elec', 'elect', 'electric', 'electrical', 'electrically', 'electro', 'electrode', 'electromagnetic', 'electron', 'electronic', 'electronically', 'electrophysiological', 'electrophysiology', 'electrotonic', 'elegant', 'element', 'elemental', 'elementary', 'elevate', 'elevation', 'elevator', 'eli', 'elicit', 'eligibility', 'eliminate', 'elimination', 'eling', 'ell', 'ellipse', 'ellipsis', 'ellipsoid', 'elliptical', 'elman', 'elongate', 'elsevier', 'elucidate', 'em', 'email', 'emanate', 'embed', 'embody', 'emerge', 'emergence', 'emergent', 'emission', 'emit', 'emotion', 'emphasis', 'emphasize', 'empirical', 'empirically', 'employ', 'emulate', 'emulation', 'en', 'enable', 'ence', 'ences', 'enclose', 'encode', 'encoder', 'encoding', 'encompass', 'encounter', 'encourage', 'encouragement', 'end', 'endow', 'endpoint', 'energy', 'enforce', 'eng', 'engage', 'engel', 'engine', 'engineer', 'england', 'englewood', 'english', 'enhance', 'enhancement', 'enjoy', 'enlarge', 'enormous', 'ensemble', 'ensue', 'ensure', 'ent', 'entail', 'entation', 'enter', 'ential', 'entire', 'entirely', 'entity', 'ently', 'entropic', 'entropy', 'entry', 'ents', 'enumerate', 'envelope', 'envi', 'environ', 'environment', 'environmental', 'envision', 'eo', 'eog', 'ep', 'episode', 'epoch', 'eps', 'epsilon', 'epsp', 'epsps', 'epsrc', 'eq', 'eqn', 'eqns', 'eqs', 'equa', 'equal', 'equality', 'equalization', 'equalize', 'equally', 'equate', 'equi', 'equidistant', 'equilibrium', 'equip', 'equipment', 'equiv', 'equiva', 'equivalence', 'equivalent', 'equivalently', 'equivariant', 'er', 'era', 'erage', 'eral', 'eralization', 'erally', 'erase', 'erate', 'erated', 'erating', 'eration', 'ere', 'ered', 'erence', 'erf', 'ergodic', 'ergodicity', 'eric', 'erlbaum', 'ermentrout', 'erp', 'err', 'erroneous', 'erroneously', 'erties', 'erty', 'es', 'escape', 'espe', 'especially', 'esprit', 'ess', 'essen', 'essence', 'essential', 'essentially', 'est', 'establish', 'establishment', 'esti', 'estima', 'estimation', 'estimator', 'eta', 'etal', 'eter', 'eters', 'eu', 'eubank', 'euclidean', 'euclidian', 'euler', 'eurocolt', 'european', 'europhys', 'ev', 'eval', 'evalu', 'evaluate', 'evaluation', 'evans', 'evenly', 'event', 'eventual', 'eventually', 'evi', 'evidence', 'evident', 'evidently', 'evoke', 'evolution', 'evolutionary', 'evolve', 'ew', 'ex', 'exact', 'exactly', 'exam', 'examination', 'examine', 'exceed', 'excellent', 'exception', 'excess', 'excessive', 'exchange', 'exci', 'excita', 'excitability', 'excitable', 'excitation', 'excitatory', 'excite', 'exclude', 'exclusive', 'exclusively', 'excursion', 'execute', 'execution', 'exemplar', 'exemplify', 'exercise', 'exert', 'exhaust', 'exhaustive', 'exhaustively', 'exhibit', 'exist', 'existence', 'existent', 'exit', 'exp', 'expand', 'expansion', 'expec', 'expect', 'expectation', 'expense', 'expensive', 'exper', 'experi', 'experience', 'experimen', 'experimental', 'experimentally', 'experimentation', 'expert', 'expertise', 'explain', 'explanation', 'explicit', 'explicitly', 'explo', 'explode', 'exploit', 'exploitation', 'exploration', 'exploratory', 'explore', 'explosion', 'expo', 'exponent', 'exponential', 'exponentially', 'exponentiated', 'exponentiation', 'expose', 'exposition', 'exposure', 'expres', 'express', 'expression', 'expressive', 'exten', 'extend', 'extendable', 'extension', 'extensive', 'extensively', 'extent', 'external', 'externally', 'extra', 'extracellular', 'extract', 'extraction', 'extractor', 'extraneous', 'extrapolate', 'extrapolation', 'extrastriate', 'extremal', 'extreme', 'extremely', 'extremum', 'extrinsic', 'ey', 'eye', 'eytan', 'ez', 'ezp', 'f0', 'f1', 'f2', 'f3', 'f49620', 'f_', 'fa', 'fabricate', 'fabrication', 'fac', 'face', 'facial', 'facilitate', 'facilitation', 'facility', 'fact', 'facto', 'factoffal', 'factor', 'factorial', 'factorization', 'factorize', 'factorized', 'factorizes', 'factory', 'faculty', 'fade', 'fahlman', 'fail', 'failure', 'fair', 'fairly', 'faithful', 'faithfully', 'fall', 'fallside', 'false', 'familiar', 'familiarity', 'family', 'famous', 'fan', 'fanty', 'farber', 'fare', 'fashion', 'fast', 'fat', 'fatigue', 'fault', 'faulty', 'favor', 'favorable', 'favorably', 'favour', 'fax', 'fb', 'fc', 'fd', 'fe', 'fea', 'feasibility', 'feasible', 'feb', 'february', 'federal', 'fee', 'feed', 'feedback', 'feedfor', 'feedforward', 'feel', 'feldman', 'fellow', 'fellowship', 'female', 'ference', 'ferent', 'ferential', 'fernando', 'ferred', 'fet', 'ff', 'ffi', 'ffir', 'fft', 'fg', 'fh', 'fi', 'fiat', 'fiber', 'fibre', 'fic', 'fication', 'ficient', 'fictitious', 'fidelity', 'fied', 'field', 'fig', 'fight', 'figtire', 'fii', 'fiir', 'fij', 'fil', 'file', 'filler', 'filnction', 'filter', 'fimction', 'fin', 'final', 'finally', 'finance', 'financial', 'finding', 'fine', 'finely', 'finger', 'finish', 'finite', 'finitely', 'finkel', 'finland', 'fion', 'fir', 'firing', 'firm', 'firstly', 'fish', 'fisher', 'fit', 'fitness', 'fixate', 'fixation', 'fixed', 'fj', 'fk', 'fki', 'fl', 'flame', 'flamework', 'flank', 'flannery', 'flash', 'flat', 'flatten', 'flavor', 'flaw', 'fleisher', 'flexibility', 'flexible', 'flight', 'flip', 'float', 'floor', 'flop', 'florham', 'florida', 'flow', 'flower', 'fluctuate', 'fluctuation', 'fluence', 'fluid', 'fly', 'fm', 'fn', 'fo', 'focal', 'focus', 'fogelman', 'fol', 'fold', 'follower', 'font', 'food', 'foot', 'force', 'forcement', 'ford', 'fore', 'forecast', 'foreground', 'foreign', 'forest', 'forever', 'forget', 'formal', 'formalism', 'formalize', 'formally', 'formance', 'formant', 'format', 'formation', 'formidable', 'formu', 'formula', 'formulate', 'formulation', 'forrest', 'forschungsgemeinschaft', 'forth', 'forthcoming', 'fortran', 'fortunately', 'forward', 'foster', 'foun', 'founda', 'foundation', 'fourier', 'fovea', 'foveal', 'fox', 'fp', 'fq', 'fr', 'fractal', 'fraction', 'fractional', 'fragment', 'frame', 'framework', 'france', 'francisco', 'franco', 'frank', 'franklin', 'franzini', 'frasconi', 'fre', 'fred', 'free', 'freedman', 'freedom', 'freely', 'freeman', 'freeze', 'french', 'freq', 'frequency', 'frequent', 'frequently', 'fresh', 'freund', 'frey', 'frg', 'fricative', 'friction', 'friedman', 'fro', 'frog', 'froin', 'frontal', 'frontier', 'fruitful', 'fs', 'ft', 'ftp', 'fu', 'fukushima', 'ful', 'fulfill', 'fully', 'fun', 'func', 'functional', 'functionality', 'functionally', 'functions', 'fund', 'fundamental', 'fundamentally', 'fur', 'furthermore', 'fuse', 'fusion', 'future', 'fuzzy', 'fv', 'fw', 'fx', 'fy', 'fz', 'g1', 'g2', 'ga', 'gabor', 'gabriel', 'gain', 'gallant', 'gallinari', 'game', 'gamma', 'gammon', 'gan', 'ganglion', 'gap', 'gardner', 'garrett', 'garrison', 'gary', 'gas', 'gat', 'gate', 'gather', 'gation', 'gatsby', 'gauge', 'gaus', 'gauss', 'gaussian', 'gaussians', 'gaze', 'gc', 'gd', 'ge', 'gear', 'geiger', 'gelatt', 'gem', 'geman', 'gen', 'gence', 'gender', 'gene', 'gener', 'genera', 'generafive', 'generalisation', 'generalise', 'generality', 'generaliza', 'generalization', 'generalize', 'generally', 'generarive', 'generation', 'generatire', 'generative', 'generator', 'generic', 'generically', 'generous', 'genetic', 'geniculate', 'gent', 'geoff', 'geoffrey', 'geometric', 'geometrical', 'geometrically', 'geometry', 'georg', 'george', 'georgia', 'georgopoulos', 'ger', 'gerald', 'german', 'germany', 'gershenfeld', 'gerstner', 'gert', 'gest', 'gestalt', 'gesture', 'gf', 'gg', 'gh', 'ghahramani', 'gi', 'giant', 'gibbs', 'gibson', 'gies', 'gij', 'gilbert', 'giles', 'gin', 'gions', 'girosi', 'gj', 'gk', 'gl', 'glance', 'glass', 'gle', 'global', 'globally', 'gluck', 'glue', 'gm', 'gmd', 'gn', 'goal', 'gold', 'goldberg', 'golden', 'goldstein', 'goodhill', 'goodman', 'goodness', 'gordon', 'gorithm', 'gorithms', 'gorman', 'gov', 'govern', 'government', 'gp', 'gq', 'gr', 'gra', 'grace', 'graceful', 'gracefully', 'grad', 'grade', 'gradi', 'gradient', 'gradual', 'gradually', 'graduate', 'graf', 'graham', 'grain', 'gram', 'grammar', 'grammatical', 'gramming', 'grand', 'grandmother', 'grant', 'granularity', 'granule', 'graph', 'graphic', 'graphical', 'graphically', 'grasp', 'grate', 'grateful', 'gratefully', 'grating', 'gravity', 'gray', 'grayscale', 'great', 'greatly', 'greedily', 'greedy', 'green', 'greg', 'gregory', 'gression', 'grey', 'greyscale', 'grid', 'griffin', 'grimson', 'grind', 'gross', 'grossberg', 'grossly', 'grossman', 'ground', 'group', 'grouping', 'grove', 'grow', 'growth', 'gt', 'gte', 'gtm', 'gu', 'guarantee', 'guess', 'guidance', 'guide', 'guideline', 'gun', 'gupta', 'gurewitz', 'gutfreund', 'guyon', 'gv', 'gx', 'gy', 'gz', 'h0', 'h1', 'h2', 'h3c', 'ha', 'hagai', 'hahn', 'haifa', 'hair', 'hal', 'half', 'halfway', 'hall', 'halt', 'halve', 'ham', 'hamilton', 'hamiltonian', 'hamiltonjan', 'hampshire', 'han', 'hanazawa', 'hancock', 'hand', 'handbook', 'handicap', 'handle', 'handwriting', 'handwritten', 'hans', 'hansen', 'hanson', 'happen', 'happy', 'hard', 'hardly', 'hardness', 'hardware', 'harmful', 'harmonic', 'harmony', 'harris', 'harry', 'hart', 'hartman', 'harvard', 'hash', 'hasselmo', 'hassibi', 'hastie', 'hat', 'haussler', 'haven', 'havior', 'hawaii', 'haykin', 'hb', 'hc', 'hd', 'head', 'health', 'healthy', 'hear', 'heart', 'heat', 'heavily', 'heaviside', 'heavy', 'hebb', 'hebbian', 'hebrew', 'hecht', 'heckerman', 'heeger', 'heidelberg', 'height', 'hello', 'helmbold', 'helmholtz', 'help', 'helpful', 'helsinki', 'hemisphere', 'hemmen', 'hen', 'henceforth', 'henderson', 'henry', 'herault', 'hertz', 'heskes', 'hessian', 'heterogeneous', 'heuristic', 'heuristically', 'hewlett', 'hexagonal', 'hf', 'hi', 'hibitory', 'hid', 'hidden', 'hide', 'hierar', 'hierarchical', 'hierarchically', 'hierarchy', 'higgins', 'higher', 'highlight', 'highly', 'highway', 'hij', 'hikaridai', 'hilbert', 'hild', 'hildreth', 'hill', 'hillclimbing', 'hillsdale', 'hinder', 'hinge', 'hint', 'hinton', 'hip', 'hippocampal', 'hippocampus', 'hirsch', 'histogram', 'historical', 'history', 'hit', 'hitherto', 'hj', 'hk', 'hl', 'hm', 'hme', 'hmm', 'hmms', 'hn', 'hnear', 'ho', 'hoc', 'hodgkin', 'hoeffding', 'hoff', 'hofmann', 'hold', 'holden', 'hole', 'holland', 'holloway', 'holmdel', 'holmes', 'holons', 'home', 'homogeneous', 'hong', 'hood', 'hop', 'hope', 'hopefully', 'hopf', 'hopfield', 'hopkins', 'hori', 'horiuchi', 'horizon', 'horizontal', 'horizontally', 'horn', 'horne', 'hornik', 'hospital', 'hospitality', 'host', 'hot', 'hough', 'hour', 'house', 'howard', 'hp', 'hr', 'hs', 'ht', 'html', 'http', 'hu', 'huang', 'hubbard', 'hubel', 'huber', 'huberman', 'hue', 'huge', 'hughes', 'hull', 'human', 'humphreys', 'hunt', 'hurt', 'huxley', 'hwang', 'hx', 'hy', 'hybrid', 'hyper', 'hyperacuity', 'hyperbolic', 'hypercolumn', 'hypercube', 'hyperparameter', 'hyperparameters', 'hyperplane', 'hyperplanes', 'hyperpolarization', 'hyperpolarized', 'hyperpolarizing', 'hypersphere', 'hypersurface', 'hypothesis', 'hypothesize', 'hypothetical', 'hysteresis', 'hz', 'i0', 'i00', 'i1', 'i2', 'i3', 'i4', 'i5', 'i_', 'ia', 'iai', 'ial', 'ian', 'ib', 'ibm', 'ic', 'ica', 'ical', 'ically', 'icann', 'icant', 'icassp', 'ice', 'ichi', 'ickinger', 'icnn', 'ics', 'icsi', 'icy', 'id', 'id3', 'ida', 'idea', 'ideal', 'idealize', 'ideally', 'iden', 'identi', 'identical', 'identically', 'identifiable', 'identification', 'identify', 'identity', 'ied', 'iee', 'ieee', 'ieice', 'ies', 'iff', 'ifi', 'ified', 'ifp', 'ifs', 'ify', 'ig', 'igi', 'ignorance', 'ignore', 'ih', 'ii', 'iid', 'iii', 'iiii', 'iiiii', 'iij', 'iil', 'iin', 'iip', 'iir', 'iiw', 'iix', 'ij', 'ijcai', 'ijcnn', 'ik', 'il', 'ilar', 'ili', 'ill', 'illinois', 'illuminate', 'illumination', 'illus', 'illusion', 'illusory', 'illustrate', 'illustration', 'illustrative', 'ils', 'ilwll', 'ilx', 'ily', 'im', 'image', 'imagery', 'imaginary', 'imagine', 'imal', 'imate', 'imately', 'imation', 'imations', 'imbed', 'ime', 'imental', 'iments', 'imitate', 'imization', 'imize', 'imizing', 'imm', 'immediate', 'immediately', 'immune', 'impact', 'impair', 'impairment', 'impedance', 'imperfect', 'imperfection', 'implausible', 'imple', 'implemen', 'implement', 'implementa', 'implementable', 'implementation', 'implicate', 'implication', 'implicit', 'implicitly', 'imply', 'impor', 'importance', 'importantly', 'impose', 'impossible', 'impractical', 'impression', 'impressive', 'improve', 'improvement', 'impulse', 'imum', 'inability', 'inaccuracy', 'inaccurate', 'inactivate', 'inactivation', 'inactive', 'inadequate', 'inal', 'inappropriate', 'incapable', 'inch', 'incidence', 'incident', 'incidentally', 'includ', 'inclusion', 'inclusive', 'incom', 'incoming', 'incompatible', 'incomplete', 'inconsistency', 'inconsistent', 'incor', 'incorporate', 'incorporation', 'incorrect', 'incorrectly', 'incre', 'increas', 'increasingly', 'increment', 'incremental', 'incrementally', 'incur', 'inde', 'indebted', 'indefinitely', 'indepen', 'independence', 'independency', 'independent', 'independently', 'index', 'indi', 'indication', 'indicative', 'indicator', 'indirect', 'indirectly', 'indistinguishable', 'individ', 'individual', 'individually', 'indoor', 'induce', 'induction', 'inductive', 'industrial', 'industry', 'ine', 'ined', 'inefficiency', 'inefficient', 'inequality', 'inertia', 'inertial', 'inevitable', 'inevitably', 'inexpensive', 'inf', 'infant', 'infeasible', 'infeng', 'infer', 'inference', 'inferior', 'infinite', 'infinitely', 'infinitesimal', 'infinity', 'influ', 'influence', 'influential', 'influx', 'info', 'infomax', 'infor', 'inform', 'informa', 'informal', 'informally', 'informatik', 'informatique', 'informative', 'infrared', 'infrequent', 'infrequently', 'ing', 'ingly', 'ingredient', 'ings', 'inh', 'inherent', 'inherently', 'inherit', 'inhibi', 'inhibit', 'inhibition', 'inhibitory', 'inhomogeneous', 'ini', 'initial', 'initialise', 'initialization', 'initialize', 'initially', 'initiate', 'initiation', 'initiative', 'inject', 'injection', 'ink', 'inl', 'inn', 'innate', 'inner', 'innervate', 'innovation', 'inpu', 'inquiry', 'ins', 'insect', 'insensitive', 'insensitivity', 'insert', 'insertion', 'inset', 'inside', 'insight', 'insightful', 'insignificant', 'insist', 'inspect', 'inspection', 'inspiration', 'inspire', 'inst', 'instability', 'install', 'instance', 'instant', 'instantaneous', 'instantaneously', 'instantiate', 'instantiation', 'instead', 'institut', 'institute', 'institution', 'instruct', 'instruction', 'instructive', 'instrument', 'instrumental', 'insufficient', 'insure', 'int', 'intact', 'inte', 'integer', 'integra', 'integrable', 'integral', 'integrand', 'integrate', 'integration', 'integrative', 'integrator', 'intel', 'intell', 'intelli', 'intelligence', 'intelligent', 'intemal', 'intend', 'intense', 'intensity', 'intensive', 'intent', 'intention', 'inter', 'interac', 'interact', 'interaction', 'interactive', 'interactively', 'interaural', 'intercept', 'interchange', 'interconnect', 'interconnection', 'interconnectivity', 'interestingly', 'interface', 'interfere', 'interference', 'interior', 'interleave', 'intermediate', 'interna', 'internal', 'internally', 'international', 'internet', 'interneuron', 'interplay', 'interpo', 'interpolate', 'interpolation', 'interpret', 'interpretable', 'interpretation', 'interrelate', 'interrupt', 'interscience', 'intersect', 'intersection', 'intersperse', 'interspike', 'interval', 'intervene', 'intimately', 'intl', 'intra', 'intracellular', 'intracortical', 'intractability', 'intractable', 'intrator', 'intrigue', 'intrinsic', 'intrinsically', 'intro', 'introduce', 'intuition', 'intuitive', 'intuitively', 'invalid', 'invaluable', 'invari', 'invariance', 'invariant', 'invent', 'inverse', 'inversely', 'inversion', 'invert', 'invertebrate', 'inverter', 'invertible', 'inves', 'invest', 'investi', 'investigate', 'investigation', 'investigator', 'investment', 'invisible', 'invite', 'invoke', 'involve', 'involvement', 'inward', 'io', 'io0', 'iol', 'ion', 'ionic', 'ioo', 'ior', 'ious', 'ip', 'ipsilateral', 'iq', 'ir', 'ira', 'ire', 'iri', 'iris', 'irl', 'iro', 'irregular', 'irregularity', 'irregularly', 'irrelevant', 'irrespective', 'irvine', 'ishii', 'isi', 'ising', 'island', 'ism', 'ismail', 'iso', 'isolate', 'isolation', 'isomorphic', 'ison', 'isotropic', 'israel', 'issue', 'ist', 'istic', 'ita', 'italy', 'ited', 'item', 'iter', 'itera', 'iterate', 'iteration', 'iterative', 'iteratively', 'ith', 'iti', 'ities', 'itive', 'ito', 'itseft', 'ity', 'iu', 'iv', 'ivaldi', 'ivi', 'iw', 'iwl', 'ix', 'ixi', 'ixl', 'iy', 'iz', 'ization', 'ized', 'j0', 'j2', 'j_', 'ja', 'jaakkola', 'jabri', 'jack', 'jackel', 'jackknife', 'jackson', 'jacobi', 'jacobian', 'jacobjan', 'jacobs', 'jain', 'james', 'jan', 'janet', 'january', 'japan', 'japanese', 'jayakumar', 'jb', 'jc', 'jd', 'je', 'ject', 'jective', 'jects', 'jeff', 'jeffrey', 'jenkins', 'jensen', 'jersey', 'jerusalem', 'jet', 'jf', 'jh', 'jhu', 'ji', 'jii', 'jij', 'jim', 'jitter', 'jj', 'jk', 'jl', 'jm', 'jn', 'jnowski', 'jo', 'joachim', 'job', 'joe', 'john', 'johns', 'johnson', 'join', 'joint', 'jointly', 'jolla', 'jonathan', 'jones', 'jordan', 'jose', 'joseph', 'joshua', 'jour', 'journal', 'jp', 'jpl', 'jq', 'jr', 'js', 'jt', 'jth', 'ju', 'juang', 'judd', 'judge', 'judgement', 'judgment', 'july', 'jump', 'junction', 'june', 'jung', 'just', 'justification', 'justify', 'jutten', 'jv', 'jx', 'k1', 'k2', 'ka', 'kaelbling', 'kai', 'kailath', 'kalman', 'kamm', 'kammen', 'kanade', 'kandel', 'kanerva', 'kangas', 'kanter', 'kappen', 'karhunen', 'karlsruhe', 'katz', 'kauf', 'kauffman', 'kaufman', 'kaufmann', 'kawato', 'kay', 'kb', 'kcl', 'kd', 'ke', 'kearns', 'keck', 'keeler', 'keller', 'ken', 'kenji', 'kennedy', 'kenneth', 'ker', 'kernel', 'kevin', 'key', 'kg', 'khz', 'ki', 'kij', 'kill', 'kim', 'kin', 'kind', 'kinematic', 'kinematics', 'kinetic', 'king', 'kingdom', 'kinzel', 'kirk', 'kirkpatrick', 'kivinen', 'kj', 'kl', 'klab', 'klaus', 'klein', 'kleinfeld', 'kluwer', 'km', 'kn', 'knierim', 'knight', 'knn', 'knot', 'knowl', 'knowledge', 'knudsen', 'ko', 'koch', 'koenderink', 'kohonen', 'koiran', 'koller', 'kolmogorov', 'kom', 'kong', 'konig', 'konishi', 'kp', 'kr', 'kramer', 'krogh', 'kronecker', 'kruse', 'kt', 'kth', 'ku', 'kuhn', 'kullback', 'kung', 'kuo', 'kurt', 'kurtosis', 'kushner', 'kutta', 'kv', 'kx', 'ky', 'kybernetik', 'kyoto', 'l0', 'l1', 'l2', 'l_', 'la', 'lab', 'label', 'labor', 'laboratory', 'laborious', 'lack', 'lafayette', 'lag', 'lagrange', 'lagrangian', 'laheld', 'lai', 'laird', 'lambda', 'laminar', 'lan', 'land', 'landmark', 'landscape', 'lane', 'lang', 'lange', 'language', 'lap', 'lapedes', 'laplace', 'laplacian', 'lar', 'largely', 'larly', 'larry', 'larsen', 'laser', 'lastly', 'lat', 'latch', 'late', 'lated', 'latency', 'latent', 'lateral', 'laterally', 'lating', 'lation', 'lations', 'lattice', 'law', 'lawrence', 'lay', 'layout', 'lazzaro', 'lb', 'lc', 'ld', 'le', 'lea', 'lead', 'leaf', 'leak', 'leakage', 'leaky', 'leam', 'leaming', 'lean', 'learnability', 'learnable', 'learner', 'learning', 'lebiere', 'lective', 'lecture', 'lecun', 'lee', 'leen', 'left', 'leftmost', 'leftward', 'leg', 'legal', 'legend', 'legendre', 'leibler', 'lel', 'lem', 'lemma', 'lemmas', 'lems', 'lend', 'length', 'lengthy', 'lens', 'leo', 'leon', 'leonard', 'les', 'lesion', 'lesioned', 'lesioning', 'leslie', 'lesser', 'let', 'lett', 'letter', 'leung', 'levenberg', 'leverage', 'levin', 'levitt', 'levy', 'lewicki', 'lewis', 'lexical', 'lexicon', 'lexington', 'lf', 'lg', 'lgn', 'lh', 'lhe', 'li', 'liapunov', 'lib', 'library', 'librium', 'lid', 'lie', 'liebler', 'life', 'lifetime', 'lift', 'light', 'lihood', 'likeli', 'likelihood', 'likely', 'likewise', 'lim', 'limb', 'lime', 'limitation', 'lin', 'lincoln', 'linden', 'linearity', 'linearization', 'linearize', 'linearly', 'linguistic', 'link', 'linkage', 'linsker', 'lion', 'lip', 'lipp', 'lippman', 'lippmann', 'lipschitz', 'liquid', 'lira', 'lished', 'lisp', 'list', 'listen', 'listener', 'lit', 'literal', 'literature', 'littlestone', 'littman', 'liu', 'live', 'lj', 'ljung', 'lk', 'll', 'lll', 'llll', 'lln', 'llx', 'lly', 'lm', 'lms', 'ln', 'lna', 'lnp', 'lnt', 'lo', 'load', 'loan', 'lobe', 'loc', 'loca', 'localise', 'localist', 'locality', 'localization', 'localize', 'locally', 'locate', 'location', 'lock', 'locomotion', 'locus', 'log', 'log2', 'loga', 'logarithm', 'logarithmic', 'logarithmically', 'logic', 'logical', 'logically', 'logistic', 'logn', 'logp', 'lond', 'london', 'long', 'loo', 'look', 'lookup', 'loom', 'looo', 'loop', 'loose', 'loosely', 'los', 'lose', 'loss', 'lot', 'loth', 'loud', 'louis', 'lowe', 'lower', 'lowpass', 'lozano', 'lp', 'lpc', 'lq', 'lr', 'ls', 'lsi', 'lt', 'ltp', 'lu', 'lucent', 'luminance', 'lump', 'lund', 'luo', 'lus', 'lution', 'lv', 'lvq', 'lw', 'lx', 'ly', 'lyapunov', 'lyl', 'lyon', 'lz', 'm0', 'm1', 'm2', 'm3', 'm4', 'm5', 'm5s', 'ma', 'maass', 'mac', 'macaque', 'mach', 'machine', 'machinery', 'mackay', 'mackey', 'macmillan', 'macro', 'macroscopic', 'mad', 'madison', 'mag', 'magazine', 'magnetic', 'magnification', 'magnify', 'magnitude', 'mahalanobis', 'mahowald', 'maih', 'mail', 'main', 'mainen', 'mainly', 'maintain', 'maintenance', 'major', 'majority', 'makeig', 'makhoul', 'mal', 'male', 'malik', 'malized', 'mally', 'malsburg', 'malvern', 'mammal', 'mammalian', 'mammone', 'man', 'manage', 'manageable', 'management', 'manager', 'mance', 'mand', 'manfred', 'manifest', 'manifestation', 'manifold', 'manipulate', 'manipulation', 'manipulator', 'mann', 'manner', 'manual', 'manually', 'manufacture', 'manuscript', 'map', 'mapping', 'mar', 'marc', 'marcel', 'march', 'marcus', 'marder', 'margin', 'marginal', 'marginalize', 'marginally', 'marion', 'mark', 'markedly', 'marker', 'market', 'markov', 'markovian', 'markovjan', 'markram', 'marquardt', 'marr', 'marroquin', 'mart', 'martin', 'martinetz', 'mary', 'maryland', 'mas', 'mask', 'mason', 'mass', 'massachusetts', 'masse', 'massive', 'massively', 'master', 'mat', 'match', 'mate', 'mately', 'mateo', 'material', 'math', 'mathe', 'mathematical', 'mathematically', 'mathematics', 'matical', 'matically', 'mation', 'mations', 'matlab', 'matrix', 'matt', 'matter', 'matthew', 'mature', 'maunsell', 'max', 'maxi', 'maximal', 'maximally', 'maximisation', 'maximise', 'maximization', 'maximize', 'maximum', 'maxwell', 'maybe', 'maze', 'mb', 'mc', 'mcc', 'mcclelland', 'mcculloch', 'mcdonnell', 'mceliece', 'mcgill', 'mcgraw', 'mchp', 'mckenna', 'mclachlan', 'mcmc', 'mcnaughton', 'md', 'mdl', 'mdp', 'mdps', 'mea', 'mead', 'meaning', 'meaningful', 'meaningless', 'measurable', 'measurement', 'mech', 'mecha', 'mechanic', 'mechanical', 'mechanism', 'med', 'medial', 'median', 'mediate', 'medical', 'medicine', 'medium', 'meet', 'meir', 'mel', 'mellon', 'mem', 'member', 'membership', 'membrane', 'memo', 'memorandum', 'memorize', 'memory', 'memoryless', 'menlo', 'mension', 'mensional', 'ment', 'mental', 'mentally', 'mentation', 'mented', 'menting', 'mention', 'ments', 'mer', 'mercer', 'mere', 'merely', 'merge', 'merical', 'merit', 'merz', 'mesh', 'message', 'met', 'meta', 'metal', 'metaphor', 'metastable', 'meter', 'meth', 'methodology', 'metric', 'metropolis', 'mexican', 'mexico', 'meyer', 'mf', 'mfiller', 'mfinchen', 'mg', 'mh', 'mhz', 'mi', 'mial', 'michael', 'michalski', 'michigan', 'micro', 'microelectrode', 'microelectronic', 'micron', 'microphone', 'microprocessor', 'microscopic', 'microsoft', 'microstructure', 'microsystem', 'mid', 'midbrain', 'middle', 'midline', 'midpoint', 'miiller', 'miinchen', 'mike', 'mil', 'mild', 'miller', 'million', 'millisecond', 'mimic', 'mimick', 'min', 'mind', 'ming', 'mini', 'minimal', 'minimally', 'minimax', 'minimisation', 'minimise', 'minimization', 'minimize', 'minimizer', 'minimum', 'ministic', 'ministry', 'minneapolis', 'minnesota', 'minor', 'minsky', 'minus', 'minute', 'mips', 'mir', 'mirror', 'mis', 'misclassification', 'misclassify', 'mislead', 'mismatch', 'miss', 'mission', 'mistake', 'mit', 'mitchell', 'mitchison', 'mitigate', 'mitsubishi', 'mitsuo', 'mix', 'mixture', 'miyata', 'mization', 'mize', 'mized', 'mizing', 'mj', 'mjolsness', 'mk', 'ml', 'mle', 'mlearn', 'mlp', 'mlps', 'mm', 'mmi', 'mn', 'mo', 'mobile', 'mod', 'modal', 'modality', 'mode', 'modeler', 'models', 'modem', 'moderate', 'moderately', 'modern', 'modest', 'modi', 'modifi', 'modifiable', 'modification', 'modify', 'modular', 'modularity', 'modulate', 'modulation', 'modulator', 'modulatory', 'module', 'modulo', 'modulus', 'moffett', 'moidal', 'molecular', 'molecule', 'moment', 'momentum', 'mon', 'money', 'monitor', 'monkey', 'mono', 'monocular', 'monograph', 'monolithic', 'monosynaptic', 'monotone', 'monotonic', 'monotonically', 'monotonicity', 'monro', 'monte', 'month', 'monthly', 'montreal', 'moody', 'moore', 'mor', 'morgan', 'mori', 'morphological', 'morphology', 'morris', 'morristown', 'mos', 'mosaic', 'moscow', 'mosis', 'moss', 'mostafa', 'motion', 'motivate', 'motivation', 'motoneuron', 'motoneurons', 'motor', 'mount', 'mountain', 'mountcastle', 'mouse', 'mouth', 'movellan', 'movement', 'movie', 'movshon', 'mozer', 'mp', 'mr', 'mrf', 'ms', 'mse', 'msec', 'msr', 'mst', 'mt', 'mth', 'mu', 'mueller', 'muenchen', 'mul', 'muller', 'multaneously', 'multi', 'multichannel', 'multiclass', 'multidimensional', 'multilayer', 'multilayered', 'multilevel', 'multimodal', 'multinomial', 'multiple', 'multiplexed', 'multiplexing', 'multiplication', 'multiplicative', 'multiplicity', 'multiplier', 'multiply', 'multiprocessor', 'multiresolution', 'multiscale', 'multitude', 'multivariable', 'multivariate', 'mum', 'mumford', 'munication', 'munications', 'munich', 'munk', 'munro', 'murata', 'muroga', 'murphy', 'murray', 'muscle', 'muscular', 'music', 'musical', 'mussa', 'mutation', 'mutual', 'mutually', 'mv', 'mw', 'mx', 'myers', 'n0', 'n00014', 'n1', 'n2', 'n3', 'n4', 'n_', 'na', 'nadal', 'naftali', 'naive', 'nakano', 'nakayama', 'nal', 'nals', 'namic', 'namical', 'namics', 'nance', 'naptic', 'nar', 'narendra', 'narrow', 'nary', 'nasa', 'nasal', 'nat', 'nates', 'nation', 'national', 'native', 'natl', 'nato', 'natural', 'naturally', 'nature', 'naval', 'navigate', 'navigation', 'navigational', 'navy', 'nc', 'ncrg', 'nction', 'nd', 'ne', 'neal', 'near', 'nearby', 'nearest', 'nearly', 'nec', 'neces', 'necessarily', 'necessary', 'necessitate', 'necessity', 'neck', 'nected', 'nection', 'nectionist', 'nections', 'nectivity', 'ned', 'neg', 'negate', 'negation', 'negative', 'neglect', 'negligible', 'neigh', 'neighbor', 'neighborhood', 'neighbour', 'neighbourhood', 'nel', 'nels', 'nelson', 'nent', 'nents', 'neocognitron', 'neocortex', 'neocortical', 'neous', 'neously', 'ner', 'nerve', 'nervous', 'ness', 'nest', 'net', 'netherlands', 'neti', 'nettalk', 'networks', 'neu', 'neumann', 'neuneier', 'neur', 'neurally', 'neurm', 'neuro', 'neuroanatomical', 'neurobiol', 'neurobiological', 'neurobiology', 'neurocolt', 'neurocomputing', 'neurodynamics', 'neurol', 'neurological', 'neurology', 'neuromimetic', 'neuromodulatory', 'neuromorphic', 'neuron', 'neuronal', 'neurone', 'neuronlike', 'neurophys', 'neurophysiol', 'neurophysiological', 'neurophysiology', 'neuropsychology', 'neurosci', 'neuroscience', 'neurotransmitter', 'neut', 'neutral', 'newly', 'news', 'newsome', 'newton', 'nf', 'ng', 'nh', 'ni', 'nical', 'nice', 'nicely', 'niebur', 'niels', 'nih', 'nil', 'nilsson', 'nimh', 'ning', 'nip', 'nips', 'nique', 'niques', 'niranjan', 'nism', 'nist', 'nition', 'nitude', 'nix', 'nized', 'nj', 'nk', 'nl', 'nm', 'nmda', 'nmnber', 'nn', 'nodal', 'node', 'noise', 'noiseless', 'noisy', 'nominal', 'nondecreasing', 'nondeterministic', 'nonetheless', 'nonincreasing', 'nonlin', 'nonlinear', 'nonlinearity', 'nonlinearly', 'nonmonotonic', 'nonnegative', 'nonoverlapping', 'nonparametric', 'nonsingular', 'nonstationary', 'nontrivial', 'nonzero', 'nordita', 'norm', 'normal', 'normalisation', 'normalise', 'normality', 'normalization', 'normalize', 'normally', 'north', 'northeastern', 'norwell', 'nose', 'notable', 'notably', 'notation', 'notational', 'noteworthy', 'notice', 'noticeable', 'notion', 'notoriously', 'noun', 'nov', 'novel', 'novelty', 'november', 'nowlan', 'np', 'nr', 'ns', 'nserc', 'nsf', 'nsw', 'nt', 'nth', 'nu', 'nuclear', 'nucleus', 'null', 'num', 'number', 'numer', 'numeral', 'numerator', 'numeric', 'numerical', 'numerically', 'numerous', 'nv', 'nw', 'nx', 'nxn', 'ny', 'nz', 'o0', 'o1', 'o2', 'o3', 'o4', 'o6', 'o_', 'oa', 'oak', 'ob', 'obd', 'obermayer', 'obey', 'objec', 'object', 'objection', 'objective', 'oblique', 'obs', 'obscure', 'obser', 'observa', 'observable', 'observation', 'observational', 'observe', 'observer', 'obstacle', 'obt', 'obtainable', 'obviate', 'obvious', 'obviously', 'oc', 'occam', 'occasion', 'occasional', 'occasionally', 'occlude', 'occlusion', 'occupy', 'occur', 'occurence', 'occurrence', 'ocr', 'oct', 'octave', 'october', 'ocular', 'oculomotor', 'od', 'odd', 'ode', 'odor', 'oe', 'offer', 'office', 'official', 'offiine', 'offline', 'offs', 'offset', 'ofp', 'oft', 'ofthe', 'og', 'ogi', 'ogy', 'oh', 'ohio', 'oi', 'oij', 'oil', 'oj', 'oja', 'ok', 'okay', 'ol', 'old', 'olfactory', 'oliver', 'ology', 'olshausen', 'olshen', 'olution', 'om', 'omission', 'omit', 'omohundro', 'onal', 'ond', 'ongoing', 'online', 'onr', 'ons', 'onset', 'ont', 'ontario', 'onward', 'oo', 'ool', 'ooo', 'oooo', 'op', 'opaque', 'oped', 'open', 'oper', 'opera', 'operand', 'operate', 'operation', 'operational', 'operator', 'opinion', 'opper', 'opponent', 'opportunity', 'oppose', 'opposite', 'opt', 'opti', 'optic', 'optical', 'optimal', 'optimality', 'optimally', 'optimisation', 'optimise', 'optimistic', 'optimiza', 'optimization', 'optimize', 'optimizer', 'optimum', 'option', 'optional', 'oq', 'orbit', 'ordering', 'orderly', 'ordinary', 'ordinate', 'ore', 'oregon', 'organ', 'organi', 'organisation', 'organise', 'organism', 'organiza', 'organization', 'organizational', 'organize', 'ori', 'orien', 'orient', 'orienta', 'orientation', 'orig', 'origin', 'original', 'originally', 'originate', 'ork', 'orlando', 'orr', 'ors', 'orthogonal', 'orthogonality', 'orthonormal', 'ory', 'os', 'oscil', 'oscilla', 'oscillate', 'oscillation', 'oscillator', 'oscillatory', 'oscilloscope', 'ot', 'oth', 'otto', 'ou', 'ought', 'ouput', 'ous', 'ously', 'outcome', 'outdoor', 'outer', 'outgoing', 'outlier', 'outline', 'outlook', 'outperform', 'outset', 'outside', 'outward', 'outweigh', 'ov', 'oval', 'overall', 'overcome', 'overcomplete', 'overestimate', 'overfit', 'overfitting', 'overhead', 'overlap', 'overlay', 'overload', 'overly', 'override', 'overshoot', 'overt', 'overtrain', 'overview', 'overwhelm', 'ow', 'owe', 'owi', 'owij', 'owl', 'ox', 'oxford', 'oxi', 'oxide', 'oy', 'oz', 'p0', 'p1', 'p2', 'p3', 'p4', 'pa', 'pac', 'pace', 'pacemaker', 'pacific', 'pacity', 'pack', 'package', 'packard', 'packet', 'pad', 'page', 'pair', 'pairing', 'pairwise', 'pal', 'palm', 'palmer', 'palo', 'pami', 'pan', 'panel', 'papert', 'par', 'para', 'parabolic', 'paradigm', 'paradox', 'paragraph', 'paral', 'parallel', 'parallelism', 'param', 'parame', 'parameterise', 'parameterization', 'parameterize', 'parameters', 'parametric', 'parametrised', 'parametrization', 'parametrized', 'parasitic', 'pare', 'parent', 'parenthesis', 'parietal', 'paris', 'parisi', 'parison', 'parity', 'park', 'parker', 'parkway', 'parr', 'parra', 'parse', 'parsimonious', 'parti', 'partial', 'partially', 'partic', 'participate', 'particle', 'particu', 'particularly', 'partition', 'partly', 'partner', 'party', 'parzen', 'pasadena', 'pass', 'passage', 'passive', 'passively', 'past', 'pat', 'patch', 'path', 'pathological', 'pathway', 'patient', 'patrice', 'patrick', 'pattem', 'pattems', 'patterson', 'paul', 'pause', 'pay', 'payoff', 'pb', 'pc', 'pca', 'pd', 'pdf', 'pdp', 'pe', 'peak', 'pear', 'pearl', 'pearlmutter', 'pearson', 'pected', 'peculiar', 'pen', 'penalize', 'penalty', 'pend', 'pendence', 'pendent', 'pendulum', 'pennsylvania', 'penrose', 'pentland', 'people', 'perceive', 'percent', 'percentage', 'percep', 'percept', 'perception', 'perceptron', 'perceptton', 'percepttons', 'perceptual', 'perceptually', 'perf', 'perfect', 'perfectly', 'perfor', 'pergamon', 'peri', 'perimental', 'periments', 'period', 'periodic', 'periodically', 'periodicity', 'peripheral', 'periphery', 'permanent', 'permanently', 'permissible', 'permission', 'permit', 'permutation', 'permute', 'perpendicular', 'perplexity', 'perrone', 'persist', 'persistence', 'persistent', 'person', 'personal', 'personnaz', 'perspec', 'perspective', 'pertain', 'pertinent', 'pertone', 'pertur', 'perturb', 'perturbation', 'perturbative', 'pervised', 'pessimistic', 'peter', 'peterson', 'petitive', 'petsche', 'pew', 'pf', 'pg', 'ph', 'pharmacological', 'phase', 'phasic', 'phasis', 'phd', 'phe', 'phenomenon', 'phil', 'philadelphia', 'philip', 'phillips', 'philosophical', 'philosophy', 'pho', 'phone', 'phoneme', 'phonemic', 'phoneroes', 'phonetic', 'phonological', 'phonology', 'photo', 'photograph', 'photon', 'photoreceptor', 'phrase', 'phy', 'phys', 'physic', 'physica', 'physical', 'physically', 'physician', 'physicist', 'physik', 'physiol', 'physiological', 'physiologically', 'physiology', 'pi', 'pick', 'picture', 'pie', 'piece', 'piecewise', 'pierre', 'pij', 'pilot', 'pima', 'pin', 'pine', 'pineda', 'ping', 'pioneer', 'pipeline', 'pipelined', 'piscataway', 'pit', 'pitch', 'pitt', 'pitts', 'pittsburgh', 'pixel', 'pj', 'pk', 'pl', 'pla', 'place', 'placement', 'plague', 'plain', 'plan', 'planar', 'planck', 'plane', 'planner', 'plant', 'plastic', 'plasticity', 'plate', 'plateau', 'platform', 'platt', 'plausibility', 'plausible', 'plaut', 'play', 'player', 'ple', 'plead', 'pleasure', 'plenum', 'ples', 'plete', 'pletely', 'plex', 'plexity', 'plication', 'plications', 'pling', 'plot', 'plp', 'plug', 'plus', 'ply', 'pm', 'pn', 'pnas', 'po', 'poggio', 'pointer', 'pointwise', 'poisson', 'pol', 'polar', 'polarity', 'polarize', 'pole', 'policy', 'pollack', 'pollard', 'poly', 'polyhedral', 'polyno', 'polynomial', 'polynomially', 'polysilicon', 'pomdp', 'pomdps', 'pomerleau', 'ponent', 'ponents', 'poo', 'pool', 'poor', 'poorly', 'pop', 'popu', 'popula', 'popular', 'popularity', 'population', 'poral', 'porated', 'port', 'portant', 'portion', 'portland', 'portray', 'pos', 'pose', 'posi', 'posit', 'position', 'positional', 'positive', 'positively', 'positivity', 'posner', 'possess', 'possi', 'possibility', 'possibly', 'post', 'postal', 'postdoctoral', 'poste', 'posterior', 'posteriori', 'posterjori', 'postprocessing', 'postsynaptic', 'postulate', 'posture', 'potassium', 'poten', 'potential', 'potentially', 'potentiation', 'pothesis', 'potts', 'pouget', 'powell', 'power', 'powerful', 'pp', 'pr', 'prac', 'practical', 'practically', 'practice', 'practitioner', 'pratt', 'pre', 'preattentive', 'precede', 'precise', 'precisely', 'precision', 'preclude', 'predator', 'predecessor', 'predefine', 'predetermine', 'predic', 'predicate', 'predict', 'predictability', 'predictable', 'prediction', 'predictive', 'predictor', 'predominantly', 'prefactor', 'prefer', 'preferable', 'preferably', 'preference', 'preferentially', 'prefix', 'preliminary', 'premise', 'prentice', 'preparation', 'prepare', 'preprint', 'preprocess', 'preprocessor', 'prerequisite', 'pres', 'prescribe', 'prescription', 'presence', 'presentation', 'presently', 'preservation', 'preserve', 'preset', 'presidential', 'prespecified', 'pression', 'pressure', 'presumably', 'presume', 'presynaptic', 'prevail', 'prevent', 'previ', 'previous', 'previously', 'prey', 'pri', 'priate', 'price', 'primal', 'primarily', 'primary', 'primate', 'prime', 'primitive', 'prin', 'prince', 'princeton', 'princi', 'principal', 'principally', 'principe', 'principle', 'principled', 'print', 'prior', 'priori', 'prioritize', 'priority', 'private', 'pro', 'proach', 'proaches', 'prob', 'proba', 'probabil', 'probabili', 'probabilistic', 'probabilistically', 'probable', 'probably', 'probe', 'problematic', 'proc', 'proce', 'procedure', 'proceed', 'proceeding', 'processor', 'produce', 'product', 'production', 'prof', 'professional', 'professor', 'profile', 'profit', 'profound', 'prog', 'program', 'programmable', 'programme', 'programmer', 'progress', 'progression', 'progressive', 'progressively', 'prohibit', 'prohibitive', 'prohibitively', 'proj', 'project', 'projection', 'projective', 'proliferation', 'prolong', 'prominent', 'promise', 'promote', 'prompt', 'prone', 'pronounce', 'pronunciation', 'proof', 'prop', 'propa', 'propaga', 'propagate', 'propagation', 'proper', 'properly', 'propor', 'proportion', 'proportional', 'proportionality', 'proportionally', 'proposal', 'propose', 'proposition', 'proprioceptive', 'propulsion', 'prospect', 'protein', 'protocol', 'prototype', 'prototypical', 'provably', 'prove', 'providence', 'provision', 'proximal', 'proximate', 'proximation', 'proximity', 'prune', 'ps', 'psaltis', 'pseudo', 'psp', 'psy', 'psych', 'psyche', 'psychol', 'psychological', 'psychology', 'psychophysical', 'psychophysics', 'pt', 'pth', 'pu', 'pub', 'public', 'publication', 'publicly', 'publish', 'publisher', 'pull', 'pulse', 'pump', 'punish', 'punishment', 'pur', 'purdue', 'pure', 'purely', 'purkinje', 'purpose', 'pursue', 'pursuit', 'push', 'putation', 'putational', 'putationally', 'putative', 'pute', 'puted', 'puter', 'puting', 'putt', 'puzzle', 'pv', 'pw', 'px', 'py', 'pyramid', 'pyramidal', 'pz', 'q0', 'q1', 'q2', 'qa', 'qb', 'qc', 'qe', 'qi', 'qian', 'qij', 'qj', 'qk', 'ql', 'qm', 'qn', 'qo', 'qp', 'qq', 'qr', 'qs', 'qt', 'qu', 'quadrant', 'quadratic', 'quadratically', 'quadrature', 'qual', 'qualitative', 'qualitatively', 'quality', 'quan', 'quanti', 'quantify', 'quantitative', 'quantitatively', 'quantity', 'quantization', 'quantize', 'quantizer', 'quantum', 'quarter', 'quarterly', 'quasi', 'queen', 'queensland', 'quence', 'quences', 'quench', 'quency', 'quently', 'query', 'ques', 'quest', 'question', 'questionable', 'queue', 'quick', 'quickly', 'quiescent', 'quinlan', 'quired', 'quite', 'quote', 'quotient', 'qv', 'qx', 'r0', 'r1', 'r2', 'r3', 'ra', 'rabbit', 'rabiner', 'race', 'racy', 'radar', 'radford', 'radial', 'radially', 'radian', 'radically', 'radio', 'radius', 'rail', 'rain', 'raise', 'ral', 'ralph', 'ram', 'rameter', 'rameters', 'ramp', 'ran', 'rand', 'randomization', 'randomize', 'randomly', 'randomness', 'rangarajan', 'rank', 'rao', 'raphson', 'rapid', 'rapidly', 'rare', 'rarely', 'rasmussen', 'raster', 'rat', 'rating', 'ratio', 'ration', 'rational', 'rationale', 'raven', 'raw', 'ray', 'raymond', 'razor', 'rb', 'rbf', 'rbfs', 'rc', 'rd', 'rea', 'reach', 'reachable', 'react', 'reaction', 'reactive', 'read', 'reader', 'readily', 'reading', 'ready', 'realisation', 'realise', 'realistic', 'reality', 'realizable', 'realization', 'realize', 'really', 'realm', 'rear', 'rearrange', 'reason', 'reasonable', 'reasonably', 'rec', 'recalculate', 'recall', 'receive', 'receiver', 'recent', 'recently', 'recep', 'receptive', 'receptor', 'recherche', 'recipe', 'recipient', 'reciprocal', 'reciprocally', 'recode', 'recog', 'recogni', 'recognise', 'recognition', 'recognizable', 'recognize', 'recognizer', 'recombine', 'recommend', 'recommendation', 'recompute', 'recon', 'reconcile', 'reconfigurable', 'reconstruct', 'reconstruction', 'record', 'recording', 'recover', 'recovery', 'recreate', 'recruit', 'rect', 'rectangle', 'rectangular', 'rectification', 'rectifier', 'rectify', 'rection', 'rectly', 'recur', 'recurrence', 'recurrent', 'recurrently', 'recursion', 'recursire', 'recursive', 'recursively', 'red', 'redefine', 'redistribution', 'redlich', 'reduc', 'reduction', 'redundancy', 'redundant', 'redwood', 'reed', 'ref', 'refer', 'refine', 'refinement', 'reflect', 'reflectance', 'reflection', 'reflex', 'reflexive', 'reformulate', 'reformulation', 'refractory', 'refresh', 'reg', 'regard', 'regardless', 'regenerate', 'regime', 'region', 'regional', 'register', 'registration', 'regres', 'regress', 'regression', 'regressor', 'regu', 'regular', 'regularisation', 'regularity', 'regularization', 'regularize', 'regularizer', 'regularizers', 'regularly', 'regulate', 'regulation', 'regulatory', 'rehovot', 'reilly', 'rein', 'reinforce', 'reinforcement', 'reject', 'rejection', 'rel', 'rela', 'relate', 'relation', 'relational', 'relationship', 'relative', 'relatively', 'relax', 'relaxation', 'relay', 'relearn', 'release', 'relevance', 'relevant', 'reliability', 'reliable', 'reliably', 'reliance', 'rely', 'rem', 'remain', 'remainder', 'remap', 'remark', 'remarkable', 'remarkably', 'remedy', 'remember', 'reminiscent', 'remote', 'removal', 'remove', 'renals', 'rend', 'render', 'renormalization', 'renormalized', 'rep', 'repair', 'repeat', 'repeatedly', 'repertoire', 'repetition', 'repetitive', 'replace', 'replacement', 'replica', 'replicate', 'replication', 'repository', 'repre', 'represen', 'representa', 'representable', 'representational', 'representative', 'reprint', 'reproduce', 'reproduction', 'request', 'requirement', 'requisite', 'res', 'resample', 'rescale', 'researcher', 'resemblance', 'resemble', 'resend', 'resent', 'resentation', 'resentations', 'reserve', 'reset', 'reside', 'residual', 'resist', 'resistance', 'resistant', 'resistive', 'resistor', 'resolution', 'resolve', 'resonance', 'resonant', 'resort', 'resource', 'resp', 'respec', 'respect', 'respective', 'respectively', 'respond', 'response', 'responsibility', 'responsible', 'responsive', 'rest', 'restart', 'restate', 'restoration', 'restore', 'restrict', 'restriction', 'restrictive', 'resultant', 'retain', 'retard', 'retention', 'retina', 'retinal', 'retinotopic', 'retrain', 'retrieval', 'retrieve', 'return', 'reuse', 'rev', 'reveal', 'reversal', 'reverse', 'reversible', 'revert', 'review', 'revise', 'revision', 'revisit', 'revow', 'reward', 'rewrite', 'rf', 'rfs', 'rg', 'rh', 'rhbnc', 'rhesus', 'rhythm', 'rhythmic', 'ri', 'ric', 'rich', 'richard', 'richards', 'richardson', 'richly', 'richness', 'ricoh', 'rid', 'ride', 'ridge', 'rieke', 'ries', 'rig', 'right', 'rightmost', 'rightward', 'rigid', 'rigidly', 'rigorous', 'rigorously', 'rii', 'rij', 'riken', 'rim', 'rin', 'ring', 'rio', 'rior', 'ripley', 'ripple', 'rise', 'risk', 'rissanen', 'rithm', 'rithms', 'ritter', 'rival', 'rive', 'river', 'rivest', 'rj', 'rk', 'rl', 'rli', 'rm', 'rmse', 'rn', 'rna', 'rni', 'rnn', 'ro', 'road', 'rob', 'robbins', 'robert', 'roberts', 'robinson', 'robot', 'robotic', 'robust', 'robustly', 'robustness', 'roc', 'rochester', 'rock', 'rod', 'rodney', 'roger', 'rogers', 'rohwer', 'roi', 'role', 'roll', 'rom', 'rome', 'ron', 'ronald', 'ronment', 'rons', 'room', 'root', 'ror', 'rosci', 'rosen', 'rosenberg', 'rosenblatt', 'rosenfeld', 'ross', 'rostral', 'rota', 'rotate', 'rotation', 'rotational', 'roth', 'rough', 'roughly', 'round', 'route', 'routine', 'routinely', 'row', 'roweis', 'roy', 'royal', 'rp', 'rq', 'rr', 'rrt', 'rs', 'rt', 'rtrl', 'ru', 'rubin', 'ruderman', 'rudower', 'rue', 'rule', 'rumelhart', 'run', 'runge', 'runtime', 'ruppin', 'russell', 'russian', 'rutgers', 'ruth', 'ruyter', 'rv', 'rw', 'rx', 'ry', 'ryckebusch', 'rz', 's0', 's1', 's2', 's3', 's5', 'sa', 'saad', 'sac', 'saccade', 'saccadic', 'sachusetts', 'sacrifice', 'saddle', 'safe', 'safely', 'safety', 'sagi', 'saitama', 'saito', 'sake', 'salamander', 'salamon', 'salesman', 'salience', 'saliency', 'salient', 'salk', 'sam', 'sample', 'samuel', 'san', 'sand', 'sanger', 'santa', 'sara', 'sary', 'satellite', 'satinder', 'satisfaction', 'satisfactorily', 'satisfactory', 'satisfy', 'sato', 'saturate', 'saturation', 'saul', 'saund', 'save', 'saving', 'say', 'sb', 'sc', 'scalability', 'scalable', 'scalar', 'scale', 'scaling', 'scalp', 'scan', 'scarce', 'scatter', 'scatterplot', 'scenario', 'scene', 'scent', 'sch', 'sch61kopf', 'schaal', 'schapire', 'sched', 'schedule', 'schema', 'schematic', 'schematically', 'scheme', 'schmidhuber', 'schmidt', 'schneider', 'scholarship', 'school', 'schraudolph', 'schreiber', 'schslkopf', 'schulten', 'schultz', 'schuster', 'schwartz', 'schwarze', 'sci', 'scientific', 'scientist', 'scope', 'score', 'scotland', 'scott', 'scramble', 'scratch', 'screen', 'scribe', 'script', 'sd', 'se', 'sea', 'search', 'seattle', 'sebastian', 'sec', 'second', 'secondary', 'secondly', 'sect', 'sector', 'security', 'sed', 'seed', 'seek', 'seemingly', 'seg', 'segev', 'segmen', 'segment', 'segmenta', 'segmental', 'segmentation', 'segregate', 'segregation', 'seika', 'sejnowski', 'sel', 'seldom', 'selec', 'select', 'selection', 'selective', 'selectively', 'selectivity', 'selector', 'self', 'sell', 'selverston', 'semantic', 'semantically', 'semi', 'semiconductor', 'seminal', 'seminar', 'sen', 'send', 'sensation', 'sense', 'sensible', 'sensitive', 'sensitivity', 'sensor', 'sensorimotor', 'sensory', 'sentation', 'sentations', 'sented', 'sentence', 'senting', 'sents', 'sep', 'sepa', 'separability', 'separable', 'separate', 'separately', 'separation', 'separator', 'sept', 'september', 'sequel', 'sequence', 'sequential', 'sequentially', 'ser', 'serc', 'serf', 'serial', 'serially', 'series', 'seriously', 'servan', 'serve', 'server', 'service', 'ses', 'session', 'setting', 'settle', 'setup', 'seung', 'sev', 'seven', 'severe', 'severely', 'severity', 'sex', 'sf', 'sg', 'sgi', 'sgn', 'sh', 'shade', 'shadow', 'shah', 'shall', 'shallow', 'shamma', 'shannon', 'shape', 'shapiro', 'shapley', 'share', 'sharp', 'sharpen', 'sharply', 'shashua', 'shatter', 'shavlik', 'shaw', 'shawe', 'shear', 'shed', 'sheet', 'sheffield', 'shell', 'shepard', 'shepherd', 'sherrington', 'shi', 'shift', 'shikano', 'ship', 'shoot', 'shop', 'short', 'shortcoming', 'shortcut', 'shorten', 'shorthand', 'shortly', 'shoulder', 'shrink', 'shunt', 'shut', 'si', 'siam', 'sian', 'sians', 'sibility', 'sible', 'sic', 'sical', 'sider', 'sidered', 'siegel', 'siemens', 'sification', 'siftcation', 'sifters', 'sig', 'sight', 'sigma', 'sigmoid', 'sigmoidal', 'sigmoids', 'sign', 'signal', 'signature', 'signif', 'signifi', 'significance', 'significant', 'significantly', 'signify', 'sij', 'silence', 'silent', 'silicon', 'sillito', 'silverman', 'sim', 'simard', 'simd', 'simi', 'similarity', 'similarly', 'simon', 'simoncelli', 'simplex', 'simplicity', 'simplification', 'simplify', 'simplistic', 'simply', 'simu', 'simul', 'simula', 'simulate', 'simulation', 'simulator', 'simulta', 'simultane', 'simultaneous', 'simultaneously', 'sin', 'sinall', 'sine', 'sing', 'singapore', 'singer', 'singh', 'singular', 'singularity', 'sink', 'sinusoid', 'sinusoidal', 'sion', 'sional', 'sionality', 'sions', 'sire', 'sis', 'sisj', 'sistent', 'sit', 'site', 'sition', 'sitions', 'situ', 'situate', 'situation', 'sity', 'siu', 'sive', 'sively', 'sivilotti', 'sixteen', 'sj', 'sk', 'skeleton', 'sketch', 'skew', 'skill', 'skilled', 'skin', 'skip', 'sky', 'sl', 'slab', 'slack', 'slant', 'sleep', 'slice', 'slide', 'slight', 'slightly', 'slip', 'sloan', 'slope', 'slot', 'slow', 'slowly', 'slx', 'sm', 'smart', 'smc', 'smear', 'smith', 'smola', 'smolensky', 'smooth', 'smoothly', 'smoothness', 'smyth', 'sn', 'snake', 'snap', 'snapshot', 'snn', 'snowbird', 'snr', 'snyder', 'soc', 'social', 'sociated', 'society', 'soda', 'sodium', 'soft', 'soften', 'softky', 'softmax', 'software', 'sole', 'solely', 'solid', 'solla', 'sollich', 'solu', 'solution', 'solv', 'solvable', 'solve', 'solver', 'som', 'soma', 'somatic', 'somatosensory', 'somers', 'somewhat', 'sompolinsky', 'son', 'sonable', 'sonar', 'song', 'sontag', 'soo', 'soon', 'sophisticate', 'sophistication', 'sor', 'soraku', 'sort', 'sory', 'soulie', 'sound', 'source', 'south', 'southern', 'sp', 'spa', 'span', 'sparc', 'sparcstation', 'spare', 'spario', 'spark', 'sparse', 'sparsely', 'sparseness', 'sparsity', 'spartan', 'spatial', 'spatially', 'spatio', 'spatiotemporal', 'spe', 'speak', 'speaker', 'spec', 'special', 'specialization', 'specialize', 'specially', 'species', 'specifi', 'specific', 'specifically', 'specification', 'specificity', 'specify', 'spectively', 'spectral', 'spectrogram', 'spectrum', 'speculate', 'speech', 'speed', 'speedup', 'spell', 'spence', 'spend', 'sphere', 'spherical', 'spherically', 'spie', 'spiegelhalter', 'spike', 'spin', 'spinal', 'spine', 'spiral', 'spirit', 'spite', 'splice', 'spline', 'split', 'sponding', 'sponds', 'sponse', 'sponses', 'sponsor', 'spontaneous', 'spontaneously', 'spot', 'spread', 'spring', 'springer', 'spurious', 'sq', 'square', 'squash', 'sr', 'sri', 'ss', 'st', 'sta', 'stability', 'stabilization', 'stabilize', 'stable', 'stably', 'stack', 'staff', 'stage', 'stan', 'stance', 'stand', 'standardize', 'standpoint', 'stanford', 'stant', 'stants', 'staple', 'star', 'start', 'stat', 'statement', 'static', 'station', 'stationarity', 'stationary', 'statis', 'statist', 'statisti', 'statistic', 'statistical', 'statistically', 'stats', 'status', 'stay', 'std', 'steadily', 'steady', 'steel', 'steep', 'steepness', 'steer', 'steerable', 'stefan', 'stein', 'stem', 'stephen', 'stepsize', 'stepwise', 'stereo', 'stereogram', 'stereopsis', 'stereoscopic', 'steve', 'steven', 'steveninck', 'stevens', 'stewart', 'sti', 'stick', 'stiffness', 'stim', 'stimu', 'stimulate', 'stimulation', 'stimulus', 'stinchcombe', 'stoc', 'stoch', 'stochas', 'stochastic', 'stochastically', 'stochasticity', 'stock', 'stomatogastric', 'stone', 'stop', 'storage', 'store', 'stork', 'story', 'str', 'straight', 'straightfor', 'straightforward', 'strain', 'straint', 'straints', 'strand', 'strange', 'strat', 'strate', 'strated', 'strategic', 'strategy', 'stray', 'stream', 'street', 'strength', 'strengthen', 'stress', 'stretch', 'striate', 'strict', 'strictly', 'strike', 'string', 'stringent', 'strip', 'stripe', 'stroke', 'strong', 'strongly', 'struc', 'struct', 'structed', 'struction', 'structural', 'structurally', 'stryker', 'stuart', 'stud', 'student', 'studentship', 'stuetzle', 'style', 'su', 'sual', 'sub', 'subclass', 'subcortical', 'subdivide', 'subdivision', 'subject', 'subjective', 'subjectively', 'submanifold', 'submit', 'subnet', 'subnetwork', 'suboptimal', 'subpopulation', 'subregion', 'subroutine', 'subsample', 'subsampled', 'subsampling', 'subscript', 'subse', 'subsection', 'subsequence', 'subsequent', 'subsequently', 'subserve', 'subset', 'subspace', 'substance', 'substantial', 'substantially', 'substitute', 'substitution', 'substrate', 'substructure', 'subsume', 'subsystem', 'subtask', 'subthreshold', 'subtle', 'subtract', 'subtraction', 'subtree', 'subunit', 'suc', 'succeed', 'success', 'successful', 'successfully', 'succession', 'successive', 'successively', 'successor', 'sudden', 'suddenly', 'sue', 'suf', 'suffer', 'suffi', 'suffice', 'sufficient', 'sufficiently', 'suffix', 'sug', 'suggest', 'suggestion', 'suggestive', 'suit', 'suitability', 'suitable', 'suitably', 'suite', 'sulting', 'sults', 'sum', 'sume', 'sumed', 'suming', 'summarise', 'summarize', 'summary', 'summation', 'summer', 'sumption', 'sumptions', 'sun', 'sunspot', 'sup', 'super', 'supercomputer', 'superficial', 'superfluous', 'superimpose', 'superior', 'superiority', 'superpose', 'superposition', 'superscript', 'superset', 'supervise', 'supervision', 'supervisor', 'supplement', 'supply', 'suppose', 'suppress', 'suppression', 'sur', 'sure', 'sured', 'surely', 'surements', 'surface', 'surgeon', 'surgery', 'surpass', 'surprise', 'surprisingly', 'surround', 'surrounding', 'survey', 'survival', 'survive', 'susceptible', 'suspect', 'sussex', 'sustain', 'sutton', 'suzuki', 'sv', 'svd', 'svm', 'svms', 'sw', 'swap', 'sweep', 'swim', 'swing', 'swiss', 'switch', 'switzerland', 'sx', 'sy', 'sydney', 'syllable', 'sym', 'symbol', 'symbolic', 'symmetric', 'symmetrical', 'symmetrically', 'symmetry', 'symp', 'symposium', 'symptom', 'syn', 'synap', 'synapfic', 'synapse', 'synapsis', 'synaptic', 'synaptically', 'synaptics', 'synchronization', 'synchronize', 'synchronous', 'synchronously', 'synchrony', 'syntactic', 'syntax', 'synthesis', 'synthesize', 'synthesizer', 'synthetic', 'syrup', 'sys', 'syst', 'systematic', 'systematically', 'systems', 'sz', 't0', 't1', 't2', 't3', 't4', 't5', 't9', 't_', 'ta', 'tab', 'table', 'tabulate', 'tackle', 'tactile', 'tag', 'tage', 'tages', 'tail', 'tailor', 'tain', 'tained', 'taining', 'tains', 'takens', 'tal', 'talk', 'talker', 'tally', 'tam', 'tan', 'tanaka', 'tance', 'tances', 'taneous', 'taneously', 'tang', 'tangent', 'tangential', 'tanh', 'tank', 'tant', 'tap', 'tape', 'tar', 'tarassenko', 'target', 'tation', 'tational', 'tations', 'tau', 'tax', 'taylor', 'tb', 'tc', 'td', 'tdnn', 'tdnns', 'te', 'teach', 'teacher', 'team', 'tebelskis', 'tech', 'technical', 'technically', 'technion', 'technische', 'technol', 'technological', 'technology', 'tection', 'tecture', 'tectures', 'ted', 'tedious', 'tel', 'telecom', 'telecommunication', 'telephone', 'telephony', 'tell', 'tem', 'temperature', 'template', 'temporal', 'temporally', 'temporarily', 'temporary', 'tempt', 'tems', 'tend', 'tendency', 'tenenbaum', 'tension', 'tensor', 'tent', 'tentative', 'tential', 'ter', 'tered', 'tering', 'terion', 'terior', 'terminal', 'terminate', 'termination', 'termined', 'terministic', 'terminology', 'tern', 'ternational', 'terrain', 'terrence', 'terry', 'ters', 'terzopoulos', 'tesauro', 'testable', 'testbed', 'teukolsky', 'tex', 'texas', 'text', 'textbook', 'texture', 'tf', 'tg', 'th', 'tha', 'thalamic', 'thalamus', 'thank', 'thc', 'theme', 'theo', 'theor', 'theorem', 'theoretic', 'theoretical', 'theoretically', 'theoretische', 'ther', 'thereof', 'thermal', 'thermodynamic', 'thermore', 'thesis', 'theta', 'thi', 'thickness', 'thing', 'think', 'thirdly', 'thirty', 'thomas', 'thompson', 'thorough', 'thoroughly', 'thorpe', 'thouless', 'thousand', 'thresh', 'threshold', 'thresholded', 'thresholding', 'throughput', 'throw', 'thrun', 'thumb', 'ti', 'tial', 'tially', 'tibshirani', 'tic', 'tical', 'tically', 'tick', 'ticular', 'tie', 'tier', 'tificial', 'tight', 'tighten', 'tightly', 'tii', 'tij', 'til', 'tile', 'till', 'tilt', 'tim', 'timal', 'timate', 'timation', 'timescale', 'timestep', 'timit', 'timization', 'timothy', 'tin', 'ting', 'tinuous', 'tiny', 'tio', 'tional', 'tionally', 'tioned', 'tionist', 'tions', 'tip', 'tiple', 'tishby', 'tissue', 'tistical', 'tit', 'tition', 'tivation', 'tive', 'tively', 'tives', 'tivity', 'tj', 'tk', 'tl', 'tll', 'tlx', 'tly', 'tm', 'tn', 'today', 'todd', 'token', 'tokyo', 'tolerance', 'tolerant', 'tolerate', 'tom', 'tomaso', 'tomita', 'tommi', 'ton', 'tonal', 'tone', 'tong', 'tongue', 'tonic', 'tony', 'tool', 'topic', 'topo', 'topographic', 'topographically', 'topography', 'topological', 'topologically', 'topology', 'tor', 'toronto', 'torque', 'torre', 'torrey', 'toru', 'tory', 'tot', 'total', 'totally', 'touch', 'tour', 'touret', 'touretzky', 'towell', 'toy', 'tp', 'tq', 'tr', 'tra', 'trace', 'track', 'tracker', 'tract', 'tractability', 'tractable', 'tractor', 'trade', 'tradeoff', 'tradi', 'traditional', 'traditionally', 'traffic', 'trai', 'trail', 'trainable', 'training', 'trajec', 'trajectory', 'tral', 'tran', 'trans', 'transac', 'transaction', 'transconductance', 'transcription', 'transduce', 'transducer', 'transduction', 'transfer', 'transfor', 'transform', 'transforma', 'transformation', 'transi', 'transient', 'transistor', 'transition', 'translate', 'translation', 'translational', 'transmission', 'transmit', 'transmitter', 'transparency', 'transparent', 'transport', 'transpose', 'trap', 'trary', 'trast', 'trate', 'travel', 'traverse', 'treat', 'treatment', 'tree', 'treisman', 'tremendous', 'trend', 'tresp', 'trevor', 'tri', 'trial', 'triangle', 'triangular', 'triangulation', 'tribute', 'tributed', 'tribution', 'tributions', 'trice', 'trick', 'trigger', 'trigonometric', 'trim', 'triple', 'triplet', 'trivial', 'trivially', 'trix', 'trl', 'trol', 'troll', 'troller', 'tron', 'trons', 'tropy', 'trouble', 'trough', 'true', 'truly', 'truncate', 'trust', 'truth', 'try', 'ts', 'tsitsiklis', 'tsodyks', 'tsoi', 'tsp', 'tt', 'tth', 'tti', 'ttt', 'tu', 'tual', 'tube', 'tucker', 'tude', 'tum', 'tun', 'tunable', 'tune', 'tunnel', 'tuple', 'turbulence', 'ture', 'tured', 'tures', 'turing', 'turk', 'turn', 'tutorial', 'tv', 'tw', 'tween', 'twice', 'twist', 'twofold', 'tx', 'ty', 'typ', 'typical', 'typically', 'tz', 'u0', 'u1', 'u2', 'ua', 'uai', 'ual', 'uation', 'ubiquitous', 'uc', 'uci', 'ucl', 'ucla', 'ucsc', 'ucsd', 'ucsf', 'ue', 'ues', 'ui', 'uj', 'uk', 'ul', 'ular', 'ulated', 'ulation', 'ulations', 'ule', 'ules', 'ullman', 'ultimate', 'ultimately', 'ultra', 'ulus', 'um', 'umass', 'ume', 'unable', 'unacceptable', 'unaffected', 'unaltered', 'unambiguous', 'unambiguously', 'unary', 'unavailable', 'unavoidable', 'unbiased', 'unbounded', 'uncertain', 'uncertainty', 'unchanged', 'unclamped', 'unclear', 'unconditional', 'unconstrained', 'uncorrelated', 'uncover', 'und', 'undefined', 'underestimate', 'undergo', 'underlie', 'underline', 'underly', 'underscore', 'understand', 'undertake', 'underway', 'undesirable', 'undirected', 'unequal', 'unexpected', 'unexplained', 'unfamiliar', 'unfold', 'unfortunately', 'uni', 'unidirectional', 'uniform', 'uniformity', 'uniformly', 'unify', 'unimodal', 'unimportant', 'uninformative', 'uninteresting', 'union', 'unique', 'uniquely', 'uniqueness', 'unitary', 'unite', 'units', 'unity', 'univ', 'univariate', 'univer', 'universal', 'universality', 'universally', 'universit', 'unix', 'unknown', 'unlabeled', 'unlabelled', 'unless', 'unlike', 'unlikely', 'unlimited', 'unmodified', 'unnecessarily', 'unnecessary', 'unnormalized', 'unobserved', 'unpredictable', 'unpublished', 'unrealistic', 'unrealizable', 'unreasonable', 'unrelated', 'unreliable', 'unrestricted', 'unsatisfactory', 'unseen', 'unsolved', 'unspecified', 'unstable', 'unstructured', 'unsu', 'unsuccessful', 'unsuitable', 'unsupervised', 'untrained', 'unused', 'unusual', 'unwanted', 'uo', 'uous', 'update', 'upper', 'upright', 'upward', 'upwards', 'uq', 'ur', 'ural', 'urbana', 'ure', 'url', 'urn', 'usa', 'usable', 'usage', 'useful', 'usefully', 'usefulness', 'useless', 'user', 'usps', 'usu', 'usual', 'usually', 'ut', 'utah', 'utans', 'utgoff', 'utilise', 'utility', 'utilization', 'utilize', 'utter', 'utterance', 'uu', 'uv', 'ux', 'v0', 'v1', 'v2', 'v3', 'v4', 'v_', 'va', 'vaadia', 'vague', 'val', 'valiant', 'valid', 'validate', 'validation', 'validity', 'valley', 'valuable', 'valued', 'values', 'van', 'vances', 'vanish', 'vanishingly', 'vantage', 'vapnik', 'var', 'vari', 'varia', 'variability', 'variance', 'variant', 'variate', 'variation', 'variational', 'variety', 'various', 'vary', 'vast', 'vastly', 'vat', 'vation', 'vations', 'vax', 'vb', 'vc', 'vd', 'vdd', 've', 'vec', 'vecchi', 'vectorial', 'vectors', 'vehicle', 'velocity', 'veloped', 'ven', 'venkatesh', 'ventional', 'ventral', 'ver', 'verb', 'verbal', 'verge', 'vergence', 'verification', 'verify', 'verlag', 'versa', 'versatile', 'verse', 'version', 'versity', 'versus', 'vertebrate', 'vertex', 'vertical', 'vertically', 'vestibular', 'vestibulo', 'vetterling', 'vf', 'vg', 'vh', 'vi', 'viability', 'viable', 'vibration', 'vice', 'vicinity', 'victor', 'victorri', 'vide', 'vided', 'video', 'vides', 'vidual', 'vie', 'vienna', 'view', 'viewpoint', 'vii', 'viii', 'vin', 'viola', 'violate', 'violation', 'vious', 'virasoro', 'virginia', 'vironment', 'virtual', 'virtually', 'virtue', 'vis', 'viscosity', 'vised', 'visible', 'vision', 'visit', 'visual', 'visualization', 'visualize', 'visually', 'vital', 'viterbi', 'vitro', 'vittoz', 'vivo', 'viz', 'vj', 'vk', 'vl', 'vladimir', 'vlsi', 'vm', 'vme', 'vn', 'vo', 'vocabulary', 'vocal', 'voice', 'vol', 'volatile', 'volatility', 'volker', 'volt', 'voltage', 'volume', 'voluntary', 'volves', 'von', 'vor', 'voronoi', 'vote', 'vowel', 'vp', 'vq', 'vr', 'vries', 'vs', 'vt', 'vu', 'vv', 'vw', 'vx', 'vy', 'vz', 'w0', 'w1', 'w2', 'wa', 'wadsworth', 'wafer', 'wagner', 'wahba', 'waibel', 'wait', 'wake', 'wako', 'walk', 'walker', 'wall', 'walter', 'waltham', 'waltz', 'wan', 'wander', 'wang', 'want', 'ward', 'ware', 'warland', 'warmuth', 'warp', 'warrant', 'warren', 'wash', 'washington', 'waste', 'wasteful', 'watanabe', 'watch', 'water', 'waterloo', 'watkins', 'watrous', 'watson', 'watt', 'wave', 'waveform', 'wavelength', 'wavelet', 'wawrzynek', 'wb', 'wc', 'wc2r', 'wd', 'weak', 'weaken', 'weakly', 'weakness', 'wealth', 'wear', 'weather', 'web', 'webb', 'weber', 'wee', 'week', 'wei', 'weigend', 'weigh', 'weinshall', 'weiss', 'weizmann', 'welch', 'wellekens', 'werbos', 'wescon', 'wesley', 'west', 'western', 'wf', 'wh', 'whe', 'wheel', 'whilst', 'whitaker', 'white', 'whitehead', 'whiten', 'wi', 'wide', 'widely', 'widen', 'widespread', 'widrow', 'width', 'wiener', 'wiesel', 'wii', 'wij', 'wik', 'wil', 'wilczek', 'wild', 'wiley', 'william', 'williams', 'williamson', 'willshaw', 'wilson', 'win', 'wind', 'window', 'winner', 'winter', 'wire', 'wisc', 'wisconsin', 'wise', 'wish', 'wit', 'witbrock', 'wittner', 'wj', 'wji', 'wk', 'wl', 'wm', 'wn', 'wo', 'wolf', 'wolfe', 'wolff', 'wolfgang', 'wolpert', 'woman', 'wonder', 'wong', 'wood', 'word', 'worker', 'workshop', 'workspace', 'workstation', 'world', 'worry', 'worsen', 'worth', 'worthwhile', 'worthy', 'wp', 'wq', 'wr', 'wrap', 'wright', 'write', 'writer', 'wrong', 'ws', 'wt', 'wta', 'wtx', 'wu', 'wurtz', 'wv', 'ww', 'www', 'wx', 'wy', 'x0', 'x1', 'x10', 'x2', 'x3', 'x4', 'x5', 'x6', 'x7', 'x9', 'x_', 'xa', 'xb', 'xc', 'xd', 'xe', 'xf', 'xg', 'xh', 'xi', 'xii', 'xij', 'xixj', 'xj', 'xk', 'xl', 'xlo', 'xly', 'xm', 'xn', 'xo', 'xor', 'xp', 'xq', 'xr', 'xs', 'xt', 'xu', 'xv', 'xve', 'xw', 'xx', 'xxt', 'xy', 'xz', 'y0', 'y1', 'y2', 'y3', 'ya', 'yale', 'yaleu', 'yamada', 'yang', 'yann', 'yaser', 'yc', 'ye', 'year', 'yellow', 'yer', 'yes', 'yeung', 'yf', 'yi', 'yield', 'yij', 'yix', 'yj', 'yk', 'yl', 'yll', 'ylx', 'ylz', 'ym', 'yn', 'yo', 'yoav', 'yon', 'yoram', 'york', 'yorktown', 'yoshizawa', 'yoshua', 'young', 'yp', 'yr', 'ys', 'ysis', 'yt', 'yu', 'yuhas', 'yuille', 'yv', 'yves', 'yx', 'yy', 'yz', 'z0', 'z1', 'z2', 'z_', 'za', 'zation', 'zc', 'zd', 'ze', 'zemel', 'zf', 'zfe', 'zh', 'zhang', 'zhou', 'zhu', 'zi', 'zij', 'zip', 'zipser', 'zipset', 'zisserman', 'zj', 'zk', 'zky', 'zl', 'zlx', 'zm', 'zn', 'zo', 'zone', 'zoo', 'zornetzer', 'zoubin', 'zp', 'zr', 'zs', 'zt', 'zu', 'zucker', 'zurich', 'zx', 'zz']\n"
     ]
    }
   ],
   "source": [
    "print(vectorizer.get_feature_names())"
   ]
  },
  {
   "cell_type": "code",
   "execution_count": 18,
   "metadata": {
    "id": "XoE0bBHJEFEj"
   },
   "outputs": [
    {
     "name": "stdout",
     "output_type": "stream",
     "text": [
      "9523\n"
     ]
    }
   ],
   "source": [
    "print(len(vectorizer.get_feature_names()))"
   ]
  },
  {
   "cell_type": "markdown",
   "metadata": {
    "id": "t2wVko9vXnlq"
   },
   "source": [
    "* 文書数と語彙サイズを変数にセット"
   ]
  },
  {
   "cell_type": "code",
   "execution_count": 19,
   "metadata": {
    "id": "0ZYC-cLaFV9V"
   },
   "outputs": [
    {
     "data": {
      "text/plain": [
       "(1740, 9523)"
      ]
     },
     "execution_count": 19,
     "metadata": {},
     "output_type": "execute_result"
    }
   ],
   "source": [
    "X.shape"
   ]
  },
  {
   "cell_type": "code",
   "execution_count": 20,
   "metadata": {
    "id": "kAd821DGFXXp"
   },
   "outputs": [],
   "source": [
    "n_samples, n_features = X.shape"
   ]
  },
  {
   "cell_type": "markdown",
   "metadata": {
    "id": "OG8puM9OXrNk"
   },
   "source": [
    "### TF-IDFで各文書における単語の重みを計算する"
   ]
  },
  {
   "cell_type": "code",
   "execution_count": 21,
   "metadata": {
    "id": "ywX2HtW-Elar"
   },
   "outputs": [],
   "source": [
    "from sklearn.feature_extraction.text import TfidfTransformer\n",
    "\n",
    "tfidf = TfidfTransformer()\n",
    "Xtfidf = tfidf.fit_transform(X)"
   ]
  },
  {
   "cell_type": "code",
   "execution_count": 22,
   "metadata": {
    "id": "hdac5_tSE4YC"
   },
   "outputs": [
    {
     "name": "stdout",
     "output_type": "stream",
     "text": [
      "  (0, 9505)\t0.04415177177651438\n",
      "  (0, 9477)\t0.026119306096916872\n",
      "  (0, 9437)\t0.03081469250861011\n",
      "  (0, 9411)\t0.019315048232435583\n",
      "  (0, 9407)\t0.01607244572674325\n",
      "  (0, 9401)\t0.013127776498956592\n",
      "  (0, 9385)\t0.017602563514355435\n",
      "  (0, 9368)\t0.023372453241481607\n",
      "  (0, 9365)\t0.02512862947613459\n",
      "  (0, 9352)\t0.012618561839450844\n",
      "  (0, 9290)\t0.017857636971958038\n",
      "  (0, 9192)\t0.0119043669146374\n",
      "  (0, 9182)\t0.12915359012047617\n",
      "  (0, 9170)\t0.012109792594674972\n",
      "  (0, 9160)\t0.0316304193216004\n",
      "  (0, 9149)\t0.009898435866014686\n",
      "  (0, 9125)\t0.02285549140266676\n",
      "  (0, 9123)\t0.015019030404060009\n",
      "  (0, 9121)\t0.01031353987404144\n",
      "  (0, 9090)\t0.030449599501948282\n",
      "  (0, 9083)\t0.012630712819979658\n",
      "  (0, 9080)\t0.01171684435145176\n",
      "  (0, 9060)\t0.02367121821565705\n",
      "  (0, 9057)\t0.021086977604899946\n",
      "  (0, 9053)\t0.11264871220575023\n",
      "  :\t:\n",
      "  (0, 1674)\t0.025530727876224266\n",
      "  (0, 1648)\t0.02165789898673774\n",
      "  (0, 1604)\t0.018023536128916356\n",
      "  (0, 1558)\t0.00988393791257569\n",
      "  (0, 1545)\t0.018592324686697553\n",
      "  (0, 1539)\t0.009804901485228067\n",
      "  (0, 1535)\t0.023293075264785447\n",
      "  (0, 1533)\t0.017989937605283078\n",
      "  (0, 1519)\t0.10103718640513319\n",
      "  (0, 1501)\t0.02230837520330243\n",
      "  (0, 1488)\t0.017633783367123727\n",
      "  (0, 1360)\t0.02005248276773778\n",
      "  (0, 1289)\t0.01614284698279147\n",
      "  (0, 864)\t0.025530727876224266\n",
      "  (0, 851)\t0.026119306096916872\n",
      "  (0, 592)\t0.013661614689827671\n",
      "  (0, 544)\t0.08206969228186463\n",
      "  (0, 537)\t0.029787267478371536\n",
      "  (0, 419)\t0.012187532183468085\n",
      "  (0, 356)\t0.018747321492137405\n",
      "  (0, 354)\t0.02249405539379771\n",
      "  (0, 345)\t0.018517791768721432\n",
      "  (0, 252)\t0.019534654420812144\n",
      "  (0, 74)\t0.028927257982737962\n",
      "  (0, 0)\t0.015038168760165766\n"
     ]
    }
   ],
   "source": [
    "print(Xtfidf[0])"
   ]
  },
  {
   "cell_type": "code",
   "execution_count": 23,
   "metadata": {
    "id": "CY0mRZonFEJF"
   },
   "outputs": [
    {
     "data": {
      "text/plain": [
       "(1740, 9523)"
      ]
     },
     "execution_count": 23,
     "metadata": {},
     "output_type": "execute_result"
    }
   ],
   "source": [
    "Xtfidf.shape"
   ]
  },
  {
   "cell_type": "markdown",
   "metadata": {
    "id": "qxdJTl_VYNHV"
   },
   "source": [
    "* 抽出するトピックの個数は、今回は20個とする。"
   ]
  },
  {
   "cell_type": "code",
   "execution_count": 24,
   "metadata": {
    "id": "VjCUJPTsYM5H"
   },
   "outputs": [],
   "source": [
    "n_components = 20"
   ]
  },
  {
   "cell_type": "markdown",
   "metadata": {
    "id": "z_CT7nbdUtVX"
   },
   "source": [
    "## 11-03 NMFでトピック抽出\n",
    "* まず、TF-IDFのデータ行列を使って　NMFによってトピック抽出を試みる。\n",
    " * NMFのパラメータ群は下記サンプルコードのまま。\n",
    " * https://scikit-learn.org/stable/auto_examples/applications/plot_topics_extraction_with_nmf_lda.html#sphx-glr-auto-examples-applications-plot-topics-extraction-with-nmf-lda-py"
   ]
  },
  {
   "cell_type": "markdown",
   "metadata": {
    "id": "QXUdhYDMYuDO"
   },
   "source": [
    "### NMFとLDAのインポート"
   ]
  },
  {
   "cell_type": "code",
   "execution_count": null,
   "metadata": {
    "id": "5L34qQ1iFncJ"
   },
   "outputs": [],
   "source": [
    "from sklearn.decomposition import NMF, LatentDirichletAllocation"
   ]
  },
  {
   "cell_type": "markdown",
   "metadata": {
    "id": "QAVXaQM0Y2Tz"
   },
   "source": [
    "### NMFによるトピック抽出の実行"
   ]
  },
  {
   "cell_type": "code",
   "execution_count": null,
   "metadata": {
    "id": "vD5YYXTmFhBj"
   },
   "outputs": [],
   "source": [
    "from time import time\n",
    "\n",
    "print((f\"Fitting the NMF model (generalized Kullback-Leibler \"\n",
    "  f\"divergence) with tf-idf features, n_samples={n_samples} \"\n",
    "  f\"and n_features={n_features}\"))\n",
    "t0 = time()\n",
    "nmf = NMF(n_components=n_components, random_state=1,\n",
    "          beta_loss='kullback-leibler', solver='mu', max_iter=1000, alpha=.1, l1_ratio=.5,\n",
    "          verbose=1)\n",
    "nmf.fit(Xtfidf)\n",
    "print(f\"done in {time() - t0:0.3f}s.\")"
   ]
  },
  {
   "cell_type": "markdown",
   "metadata": {
    "id": "hkg5KZoHYYCN"
   },
   "source": [
    "* NMFにおける各コンポーネントは、それぞれのトピックにおける単語の重要度を表すベクトルとして表現されている。"
   ]
  },
  {
   "cell_type": "code",
   "execution_count": null,
   "metadata": {
    "id": "Ve9R8yHfG4AM"
   },
   "outputs": [],
   "source": [
    "nmf.components_"
   ]
  },
  {
   "cell_type": "markdown",
   "metadata": {
    "id": "NPHsNjupYp7w"
   },
   "source": [
    "### トピックの重要語を取り出す関数の定義"
   ]
  },
  {
   "cell_type": "code",
   "execution_count": null,
   "metadata": {
    "id": "rpoC-pofHMEO"
   },
   "outputs": [],
   "source": [
    "def get_top_words(model, feature_names, n_top_words=30):\n",
    "  top_features = list()\n",
    "  weights = list()\n",
    "  for topic_idx, topic in enumerate(model.components_):\n",
    "    top_features_ind = topic.argsort()[:-n_top_words - 1:-1]\n",
    "    top_features.append([feature_names[i] for i in top_features_ind])\n",
    "    weights.append(topic[top_features_ind])\n",
    "  return top_features, weights"
   ]
  },
  {
   "cell_type": "markdown",
   "metadata": {
    "id": "A8K-_A0AZIZ0"
   },
   "source": [
    "### NMFの各コンポーネントから重要語を取り出す"
   ]
  },
  {
   "cell_type": "code",
   "execution_count": null,
   "metadata": {
    "id": "HDe-I2RuSvMu"
   },
   "outputs": [],
   "source": [
    "top_words, weights = get_top_words(nmf, vectorizer.get_feature_names())"
   ]
  },
  {
   "cell_type": "code",
   "execution_count": null,
   "metadata": {
    "id": "DJsNT2kUULwl"
   },
   "outputs": [],
   "source": [
    "print(top_words[0])"
   ]
  },
  {
   "cell_type": "code",
   "execution_count": null,
   "metadata": {
    "id": "eN10-rDQU2rt"
   },
   "outputs": [],
   "source": [
    "topic_words = [dict(zip(top_words[i], weights[i])) for i in range(n_components)]"
   ]
  },
  {
   "cell_type": "code",
   "execution_count": null,
   "metadata": {
    "id": "75wn85J2U6gj"
   },
   "outputs": [],
   "source": [
    "topic_words[0]"
   ]
  },
  {
   "cell_type": "markdown",
   "metadata": {
    "id": "uWbQ_eRpZQNs"
   },
   "source": [
    "### 重要語をワードクラウドで可視化"
   ]
  },
  {
   "cell_type": "code",
   "execution_count": null,
   "metadata": {
    "id": "sxUXK24EkgWy"
   },
   "outputs": [],
   "source": [
    "from matplotlib import pyplot as plt\n",
    "from wordcloud import WordCloud, STOPWORDS"
   ]
  },
  {
   "cell_type": "markdown",
   "metadata": {
    "id": "W103IkR3ZWYg"
   },
   "source": [
    "* ワードクラウドから除去するストップワードを確認する。"
   ]
  },
  {
   "cell_type": "code",
   "execution_count": null,
   "metadata": {
    "id": "h0p-1tK7k7rk"
   },
   "outputs": [],
   "source": [
    "print(STOPWORDS)"
   ]
  },
  {
   "cell_type": "markdown",
   "metadata": {
    "id": "8INZcGJAbF_o"
   },
   "source": [
    "* ワードクラウドを描画"
   ]
  },
  {
   "cell_type": "code",
   "execution_count": null,
   "metadata": {
    "id": "jRWtPdcOkwiG"
   },
   "outputs": [],
   "source": [
    "cloud = WordCloud(stopwords=STOPWORDS,\n",
    "                  background_color='white',\n",
    "                  width=2500,\n",
    "                  height=1800,\n",
    "                  max_words=100,\n",
    "                  colormap='tab10'\n",
    "                  )"
   ]
  },
  {
   "cell_type": "code",
   "execution_count": null,
   "metadata": {
    "id": "Dmbw1bOHkhfN"
   },
   "outputs": [],
   "source": [
    "fig, axes = plt.subplots(5, 4, figsize=(16, 25), sharex=True, sharey=True)\n",
    "\n",
    "for i, ax in enumerate(axes.flatten()):\n",
    "  fig.add_subplot(ax)\n",
    "  cloud.generate_from_frequencies(topic_words[i], max_font_size=300)\n",
    "  plt.gca().imshow(cloud)\n",
    "  plt.gca().set_title('Topic ' + str(i), fontdict=dict(size=16))\n",
    "  plt.gca().axis('off')\n",
    "\n",
    "plt.subplots_adjust(wspace=0, hspace=0)\n",
    "plt.axis('off')\n",
    "plt.margins(x=0, y=0)\n",
    "plt.tight_layout()"
   ]
  },
  {
   "cell_type": "markdown",
   "metadata": {
    "id": "1EHfuc6RZgPh"
   },
   "source": [
    "## 11-04 LDAでトピック抽出"
   ]
  },
  {
   "cell_type": "markdown",
   "metadata": {
    "id": "VSAEThMwZjhb"
   },
   "source": [
    "### LDAによるトピック抽出の実行"
   ]
  },
  {
   "cell_type": "code",
   "execution_count": null,
   "metadata": {
    "id": "KuuSTK6fZfu7"
   },
   "outputs": [],
   "source": [
    "lda = LatentDirichletAllocation(n_components=n_components, \n",
    "                                max_iter=20,\n",
    "                                topic_word_prior=0.01,\n",
    "                                learning_method='online',\n",
    "                                learning_offset=50,\n",
    "                                batch_size=200,\n",
    "                                mean_change_tol=1e-4,\n",
    "                                random_state=1,\n",
    "                                evaluate_every=1,\n",
    "                                verbose=1)"
   ]
  },
  {
   "cell_type": "code",
   "execution_count": null,
   "metadata": {
    "id": "qWd3DND8aAVz"
   },
   "outputs": [],
   "source": [
    "print((f\"Fitting LDA models with tf features, \"\n",
    "  f\"n_samples={n_samples} and n_features={n_features}\"))\n",
    "t0 = time()\n",
    "lda.fit(X)\n",
    "print(f\"done in {time() - t0:0.3f}s.\")"
   ]
  },
  {
   "cell_type": "markdown",
   "metadata": {
    "id": "Pez5Ak2-cUjS"
   },
   "source": [
    "### LDAの各トピックから高確率語を取り出す"
   ]
  },
  {
   "cell_type": "code",
   "execution_count": null,
   "metadata": {
    "id": "NxBI2nx6aEri"
   },
   "outputs": [],
   "source": [
    "top_words, weights = get_top_words(lda, vectorizer.get_feature_names())"
   ]
  },
  {
   "cell_type": "code",
   "execution_count": null,
   "metadata": {
    "id": "_HADZSPDcJbC"
   },
   "outputs": [],
   "source": [
    "print(top_words[0])"
   ]
  },
  {
   "cell_type": "code",
   "execution_count": null,
   "metadata": {
    "id": "ZQgOfcGYb8gA"
   },
   "outputs": [],
   "source": [
    "topic_words = [dict(zip(top_words[i], weights[i])) for i in range(n_components)]"
   ]
  },
  {
   "cell_type": "markdown",
   "metadata": {
    "id": "b_HRjNZJcbNr"
   },
   "source": [
    "### 高確率語をワードクラウドで可視化"
   ]
  },
  {
   "cell_type": "code",
   "execution_count": null,
   "metadata": {
    "id": "4o3v2CLfb1ku"
   },
   "outputs": [],
   "source": [
    "cloud = WordCloud(stopwords=STOPWORDS,\n",
    "                  background_color='white',\n",
    "                  width=2500,\n",
    "                  height=1800,\n",
    "                  max_words=100,\n",
    "                  colormap='tab10'\n",
    "                  )"
   ]
  },
  {
   "cell_type": "code",
   "execution_count": null,
   "metadata": {
    "id": "NFf5jcX5b45d"
   },
   "outputs": [],
   "source": [
    "fig, axes = plt.subplots(5, 4, figsize=(16, 25), sharex=True, sharey=True)\n",
    "\n",
    "for i, ax in enumerate(axes.flatten()):\n",
    "  fig.add_subplot(ax)\n",
    "  cloud.generate_from_frequencies(topic_words[i], max_font_size=300)\n",
    "  plt.gca().imshow(cloud)\n",
    "  plt.gca().set_title('Topic ' + str(i), fontdict=dict(size=16))\n",
    "  plt.gca().axis('off')\n",
    "\n",
    "plt.subplots_adjust(wspace=0, hspace=0)\n",
    "plt.axis('off')\n",
    "plt.margins(x=0, y=0)\n",
    "plt.tight_layout()"
   ]
  },
  {
   "cell_type": "code",
   "execution_count": null,
   "metadata": {
    "id": "09yuBwmocMRn"
   },
   "outputs": [],
   "source": [
    "!pip install pyLDAvis"
   ]
  },
  {
   "cell_type": "code",
   "execution_count": null,
   "metadata": {
    "id": "oEINkILeopMw"
   },
   "outputs": [],
   "source": [
    "import pyLDAvis\n",
    "import pyLDAvis.sklearn"
   ]
  },
  {
   "cell_type": "code",
   "execution_count": null,
   "metadata": {
    "id": "9KGlybhAosnv"
   },
   "outputs": [],
   "source": [
    "pyLDAvis.enable_notebook()\n",
    "panel = pyLDAvis.sklearn.prepare(lda, X, vectorizer, mds='tsne')\n",
    "panel"
   ]
  },
  {
   "cell_type": "code",
   "execution_count": null,
   "metadata": {
    "id": "-ZHDUDylpOFM"
   },
   "outputs": [],
   "source": []
  }
 ],
 "metadata": {
  "colab": {
   "authorship_tag": "ABX9TyNyVTNTZxoqrFDwo2+taBP8",
   "collapsed_sections": [],
   "include_colab_link": true,
   "mount_file_id": "12MxXsGfePft6pAHKkHrg23Yb7t_RSKiN",
   "name": "11_topic_modeling.ipynb",
   "provenance": []
  },
  "kernelspec": {
   "display_name": "Python 3",
   "language": "python",
   "name": "python3"
  },
  "language_info": {
   "codemirror_mode": {
    "name": "ipython",
    "version": 3
   },
   "file_extension": ".py",
   "mimetype": "text/x-python",
   "name": "python",
   "nbconvert_exporter": "python",
   "pygments_lexer": "ipython3",
   "version": "3.7.6"
  }
 },
 "nbformat": 4,
 "nbformat_minor": 1
}
